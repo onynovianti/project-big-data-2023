{
  "cells": [
    {
      "cell_type": "code",
      "execution_count": 1,
      "metadata": {
        "colab": {
          "base_uri": "https://localhost:8080/"
        },
        "id": "1C_XQPcbYg5v",
        "outputId": "37d39f97-095f-4cc1-f987-f9245b518a1b"
      },
      "outputs": [
        {
          "output_type": "stream",
          "name": "stdout",
          "text": [
            "Mounted at /content/drive\n"
          ]
        }
      ],
      "source": [
        "from google.colab import drive\n",
        "drive.mount('/content/drive')"
      ]
    },
    {
      "cell_type": "code",
      "execution_count": 2,
      "metadata": {
        "colab": {
          "base_uri": "https://localhost:8080/"
        },
        "id": "mD4lO-MGYzKY",
        "outputId": "06f9b415-c271-45e3-e676-2ecb1f5eb135"
      },
      "outputs": [
        {
          "output_type": "stream",
          "name": "stdout",
          "text": [
            "Looking in indexes: https://pypi.org/simple, https://us-python.pkg.dev/colab-wheels/public/simple/\n",
            "Collecting pyspark\n",
            "  Downloading pyspark-3.4.1.tar.gz (310.8 MB)\n",
            "\u001b[2K     \u001b[90m━━━━━━━━━━━━━━━━━━━━━━━━━━━━━━━━━━━━━━━\u001b[0m \u001b[32m310.8/310.8 MB\u001b[0m \u001b[31m4.3 MB/s\u001b[0m eta \u001b[36m0:00:00\u001b[0m\n",
            "\u001b[?25h  Preparing metadata (setup.py) ... \u001b[?25l\u001b[?25hdone\n",
            "Requirement already satisfied: py4j==0.10.9.7 in /usr/local/lib/python3.10/dist-packages (from pyspark) (0.10.9.7)\n",
            "Building wheels for collected packages: pyspark\n",
            "  Building wheel for pyspark (setup.py) ... \u001b[?25l\u001b[?25hdone\n",
            "  Created wheel for pyspark: filename=pyspark-3.4.1-py2.py3-none-any.whl size=311285398 sha256=fc920c34006d85994ddbad405a22425b3bdb0f4a1c2a6c0e5772b2282b297892\n",
            "  Stored in directory: /root/.cache/pip/wheels/0d/77/a3/ff2f74cc9ab41f8f594dabf0579c2a7c6de920d584206e0834\n",
            "Successfully built pyspark\n",
            "Installing collected packages: pyspark\n",
            "Successfully installed pyspark-3.4.1\n",
            "Looking in indexes: https://pypi.org/simple, https://us-python.pkg.dev/colab-wheels/public/simple/\n",
            "Requirement already satisfied: matplotlib in /usr/local/lib/python3.10/dist-packages (3.7.1)\n",
            "Requirement already satisfied: contourpy>=1.0.1 in /usr/local/lib/python3.10/dist-packages (from matplotlib) (1.1.0)\n",
            "Requirement already satisfied: cycler>=0.10 in /usr/local/lib/python3.10/dist-packages (from matplotlib) (0.11.0)\n",
            "Requirement already satisfied: fonttools>=4.22.0 in /usr/local/lib/python3.10/dist-packages (from matplotlib) (4.40.0)\n",
            "Requirement already satisfied: kiwisolver>=1.0.1 in /usr/local/lib/python3.10/dist-packages (from matplotlib) (1.4.4)\n",
            "Requirement already satisfied: numpy>=1.20 in /usr/local/lib/python3.10/dist-packages (from matplotlib) (1.22.4)\n",
            "Requirement already satisfied: packaging>=20.0 in /usr/local/lib/python3.10/dist-packages (from matplotlib) (23.1)\n",
            "Requirement already satisfied: pillow>=6.2.0 in /usr/local/lib/python3.10/dist-packages (from matplotlib) (8.4.0)\n",
            "Requirement already satisfied: pyparsing>=2.3.1 in /usr/local/lib/python3.10/dist-packages (from matplotlib) (3.1.0)\n",
            "Requirement already satisfied: python-dateutil>=2.7 in /usr/local/lib/python3.10/dist-packages (from matplotlib) (2.8.2)\n",
            "Requirement already satisfied: six>=1.5 in /usr/local/lib/python3.10/dist-packages (from python-dateutil>=2.7->matplotlib) (1.16.0)\n"
          ]
        }
      ],
      "source": [
        "!pip install pyspark\n",
        "!pip install matplotlib"
      ]
    },
    {
      "cell_type": "code",
      "execution_count": 3,
      "metadata": {
        "id": "oAlDJwvgZJrn"
      },
      "outputs": [],
      "source": [
        "# df = spark.read.csv('/content/drive/MyDrive/dataset/Airplane/Airplane_Crashes_and_Fatalities_Since_1908.csv', header=True)"
      ]
    },
    {
      "cell_type": "code",
      "source": [
        "!pip install sklearn"
      ],
      "metadata": {
        "colab": {
          "base_uri": "https://localhost:8080/"
        },
        "id": "upYG4ubf49Th",
        "outputId": "d574a8e4-bd30-4bbf-a88d-2b4a46162e20"
      },
      "execution_count": 4,
      "outputs": [
        {
          "output_type": "stream",
          "name": "stdout",
          "text": [
            "Looking in indexes: https://pypi.org/simple, https://us-python.pkg.dev/colab-wheels/public/simple/\n",
            "Collecting sklearn\n",
            "  Downloading sklearn-0.0.post5.tar.gz (3.7 kB)\n",
            "  Preparing metadata (setup.py) ... \u001b[?25l\u001b[?25hdone\n",
            "Building wheels for collected packages: sklearn\n",
            "  Building wheel for sklearn (setup.py) ... \u001b[?25l\u001b[?25hdone\n",
            "  Created wheel for sklearn: filename=sklearn-0.0.post5-py3-none-any.whl size=2950 sha256=9ffa4b2aea6fad95ad0b9932faaf391c607df3bbd46d21ccc071d55f36ddd6a4\n",
            "  Stored in directory: /root/.cache/pip/wheels/38/1f/8d/4f812c590e074c1e928f5cec67bf5053b71f38e2648739403a\n",
            "Successfully built sklearn\n",
            "Installing collected packages: sklearn\n",
            "Successfully installed sklearn-0.0.post5\n"
          ]
        }
      ]
    },
    {
      "cell_type": "code",
      "execution_count": 5,
      "metadata": {
        "id": "8FbAvKN2aq3i"
      },
      "outputs": [],
      "source": [
        "# Import PySpark modules\n",
        "from pyspark.sql import SparkSession\n",
        "from pyspark.ml.feature import Tokenizer, StopWordsRemover, HashingTF, IDF\n",
        "from pyspark.sql.functions import regexp_replace\n",
        "from pyspark.ml.clustering import KMeans\n",
        "\n",
        "# Initialize SparkSession\n",
        "spark = SparkSession.builder.appName(\"FlightAccidentStopWordsRemoval\").getOrCreate()\n",
        "\n",
        "# Load data from CSV file\n",
        "data = spark.read.csv(\"/content/drive/MyDrive/Airplane_Crashes_and_Fatalities_Since_1908.csv\", header=True, inferSchema=True)\n",
        "\n",
        "data = data.na.drop(subset=['Summary'])\n",
        "\n",
        "data = data.withColumn(\"Summary\", regexp_replace(data[\"Summary\"], \"[\\.,]\", \"\"))\n",
        "\n",
        "# Tokenize the \"Summary\" column\n",
        "tokenizer = Tokenizer(inputCol=\"Summary\", outputCol=\"tokens\")\n",
        "data = tokenizer.transform(data)\n",
        "\n",
        "# Remove stop words from the tokens\n",
        "stopwords = StopWordsRemover.loadDefaultStopWords(\"english\")\n",
        "stopwords_remover = StopWordsRemover(inputCol=\"tokens\", outputCol=\"filtered_tokens\", stopWords=stopwords)\n",
        "data = stopwords_remover.transform(data)\n",
        "\n",
        "# Show the result after stop words removal\n",
        "# data.select(\"Summary\", \"filtered_tokens\").show(truncate=False)"
      ]
    },
    {
      "cell_type": "code",
      "source": [
        "# data.printSchema()\n"
      ],
      "metadata": {
        "id": "3S75N2b6splh"
      },
      "execution_count": 6,
      "outputs": []
    },
    {
      "cell_type": "code",
      "source": [
        "data.count()\n"
      ],
      "metadata": {
        "colab": {
          "base_uri": "https://localhost:8080/"
        },
        "id": "kCFd8MYrD1iP",
        "outputId": "cd1f874c-5e8c-497f-adef-03b39059407c"
      },
      "execution_count": 7,
      "outputs": [
        {
          "output_type": "execute_result",
          "data": {
            "text/plain": [
              "4878"
            ]
          },
          "metadata": {},
          "execution_count": 7
        }
      ]
    },
    {
      "cell_type": "code",
      "source": [
        "# Gabungkan hasil token-token menjadi satu\n",
        "teks = [row[0] for row in data.select(\"filtered_tokens\").collect()]\n",
        "\n",
        "teks_gabung = [' '.join(dokumen) for dokumen in teks]\n",
        "\n",
        "# print(teks_gabung)\n"
      ],
      "metadata": {
        "id": "6uerzLFZFAE2"
      },
      "execution_count": 8,
      "outputs": []
    },
    {
      "cell_type": "code",
      "source": [
        "from sklearn.feature_extraction.text import TfidfVectorizer\n",
        "import numpy as np\n",
        "\n",
        "# Membuat objek TfidfVectorizer\n",
        "vectorizer = TfidfVectorizer()\n",
        "\n",
        "# Menghitung nilai TF-IDF\n",
        "tfidf_matrix = vectorizer.fit_transform(teks_gabung)\n",
        "\n",
        "# Mendapatkan daftar fitur\n",
        "feature_names = vectorizer.get_feature_names_out()\n",
        "# Menampilkan hasil TF-IDF\n",
        "# top_k = 3\n",
        "# for i, row in enumerate(tfidf_matrix.toarray()):\n",
        "#     print(\"Dokumen\", i+1)\n",
        "#     top_indices = np.argsort(row)[::-1][:top_k]\n",
        "#     for index in top_indices:\n",
        "#         print(feature_names[index])\n",
        "#     print()\n"
      ],
      "metadata": {
        "id": "S3K2v2OoEVFF"
      },
      "execution_count": 9,
      "outputs": []
    },
    {
      "cell_type": "code",
      "execution_count": 10,
      "metadata": {
        "id": "wMkhSAXPbQ2p"
      },
      "outputs": [],
      "source": [
        "from sklearn.model_selection import train_test_split\n",
        "label_teks = np.array(data.select('Summary').collect()).flatten()\n",
        "X_train, X_test, y_train, y_test = train_test_split(tfidf_matrix, label_teks, test_size=0.2, random_state=42)"
      ]
    },
    {
      "cell_type": "code",
      "source": [],
      "metadata": {
        "id": "5mXkCsTq7upR"
      },
      "execution_count": 10,
      "outputs": []
    },
    {
      "cell_type": "markdown",
      "source": [
        "## Menggunakan Model Support Vector Classifier"
      ],
      "metadata": {
        "id": "RWPv4F9N1ehU"
      }
    },
    {
      "cell_type": "code",
      "source": [
        "# from sklearn.model_selection import GridSearchCV\n",
        "# from sklearn.svm import SVC\n",
        "# param_grid = {'C': [1, 10, 100], 'gamma': [0.1, 0.01, 0.001], 'kernel': ['linear', 'rbf']}\n",
        "# grid_search = GridSearchCV(SVC(), param_grid, cv=5)\n",
        "# grid_search.fit(X_train, y_train)\n",
        "# best_params = grid_search.best_params_"
      ],
      "metadata": {
        "colab": {
          "base_uri": "https://localhost:8080/",
          "height": 417
        },
        "id": "G76BUZx-7v3T",
        "outputId": "8c22ddb7-9866-49fc-a9b0-adce42d641b4"
      },
      "execution_count": 11,
      "outputs": [
        {
          "output_type": "stream",
          "name": "stderr",
          "text": [
            "/usr/local/lib/python3.10/dist-packages/sklearn/model_selection/_split.py:700: UserWarning: The least populated class in y has only 1 members, which is less than n_splits=5.\n",
            "  warnings.warn(\n"
          ]
        },
        {
          "output_type": "error",
          "ename": "KeyboardInterrupt",
          "evalue": "ignored",
          "traceback": [
            "\u001b[0;31m---------------------------------------------------------------------------\u001b[0m",
            "\u001b[0;31mKeyboardInterrupt\u001b[0m                         Traceback (most recent call last)",
            "\u001b[0;32m<ipython-input-11-9226ec8ac54c>\u001b[0m in \u001b[0;36m<cell line: 5>\u001b[0;34m()\u001b[0m\n\u001b[1;32m      3\u001b[0m \u001b[0mparam_grid\u001b[0m \u001b[0;34m=\u001b[0m \u001b[0;34m{\u001b[0m\u001b[0;34m'C'\u001b[0m\u001b[0;34m:\u001b[0m \u001b[0;34m[\u001b[0m\u001b[0;36m1\u001b[0m\u001b[0;34m,\u001b[0m \u001b[0;36m10\u001b[0m\u001b[0;34m,\u001b[0m \u001b[0;36m100\u001b[0m\u001b[0;34m]\u001b[0m\u001b[0;34m,\u001b[0m \u001b[0;34m'gamma'\u001b[0m\u001b[0;34m:\u001b[0m \u001b[0;34m[\u001b[0m\u001b[0;36m0.1\u001b[0m\u001b[0;34m,\u001b[0m \u001b[0;36m0.01\u001b[0m\u001b[0;34m,\u001b[0m \u001b[0;36m0.001\u001b[0m\u001b[0;34m]\u001b[0m\u001b[0;34m,\u001b[0m \u001b[0;34m'kernel'\u001b[0m\u001b[0;34m:\u001b[0m \u001b[0;34m[\u001b[0m\u001b[0;34m'linear'\u001b[0m\u001b[0;34m,\u001b[0m \u001b[0;34m'rbf'\u001b[0m\u001b[0;34m]\u001b[0m\u001b[0;34m}\u001b[0m\u001b[0;34m\u001b[0m\u001b[0;34m\u001b[0m\u001b[0m\n\u001b[1;32m      4\u001b[0m \u001b[0mgrid_search\u001b[0m \u001b[0;34m=\u001b[0m \u001b[0mGridSearchCV\u001b[0m\u001b[0;34m(\u001b[0m\u001b[0mSVC\u001b[0m\u001b[0;34m(\u001b[0m\u001b[0;34m)\u001b[0m\u001b[0;34m,\u001b[0m \u001b[0mparam_grid\u001b[0m\u001b[0;34m,\u001b[0m \u001b[0mcv\u001b[0m\u001b[0;34m=\u001b[0m\u001b[0;36m5\u001b[0m\u001b[0;34m)\u001b[0m\u001b[0;34m\u001b[0m\u001b[0;34m\u001b[0m\u001b[0m\n\u001b[0;32m----> 5\u001b[0;31m \u001b[0mgrid_search\u001b[0m\u001b[0;34m.\u001b[0m\u001b[0mfit\u001b[0m\u001b[0;34m(\u001b[0m\u001b[0mX_train\u001b[0m\u001b[0;34m,\u001b[0m \u001b[0my_train\u001b[0m\u001b[0;34m)\u001b[0m\u001b[0;34m\u001b[0m\u001b[0;34m\u001b[0m\u001b[0m\n\u001b[0m\u001b[1;32m      6\u001b[0m \u001b[0mbest_params\u001b[0m \u001b[0;34m=\u001b[0m \u001b[0mgrid_search\u001b[0m\u001b[0;34m.\u001b[0m\u001b[0mbest_params_\u001b[0m\u001b[0;34m\u001b[0m\u001b[0;34m\u001b[0m\u001b[0m\n",
            "\u001b[0;32m/usr/local/lib/python3.10/dist-packages/sklearn/model_selection/_search.py\u001b[0m in \u001b[0;36mfit\u001b[0;34m(self, X, y, groups, **fit_params)\u001b[0m\n\u001b[1;32m    872\u001b[0m                 \u001b[0;32mreturn\u001b[0m \u001b[0mresults\u001b[0m\u001b[0;34m\u001b[0m\u001b[0;34m\u001b[0m\u001b[0m\n\u001b[1;32m    873\u001b[0m \u001b[0;34m\u001b[0m\u001b[0m\n\u001b[0;32m--> 874\u001b[0;31m             \u001b[0mself\u001b[0m\u001b[0;34m.\u001b[0m\u001b[0m_run_search\u001b[0m\u001b[0;34m(\u001b[0m\u001b[0mevaluate_candidates\u001b[0m\u001b[0;34m)\u001b[0m\u001b[0;34m\u001b[0m\u001b[0;34m\u001b[0m\u001b[0m\n\u001b[0m\u001b[1;32m    875\u001b[0m \u001b[0;34m\u001b[0m\u001b[0m\n\u001b[1;32m    876\u001b[0m             \u001b[0;31m# multimetric is determined here because in the case of a callable\u001b[0m\u001b[0;34m\u001b[0m\u001b[0;34m\u001b[0m\u001b[0m\n",
            "\u001b[0;32m/usr/local/lib/python3.10/dist-packages/sklearn/model_selection/_search.py\u001b[0m in \u001b[0;36m_run_search\u001b[0;34m(self, evaluate_candidates)\u001b[0m\n\u001b[1;32m   1386\u001b[0m     \u001b[0;32mdef\u001b[0m \u001b[0m_run_search\u001b[0m\u001b[0;34m(\u001b[0m\u001b[0mself\u001b[0m\u001b[0;34m,\u001b[0m \u001b[0mevaluate_candidates\u001b[0m\u001b[0;34m)\u001b[0m\u001b[0;34m:\u001b[0m\u001b[0;34m\u001b[0m\u001b[0;34m\u001b[0m\u001b[0m\n\u001b[1;32m   1387\u001b[0m         \u001b[0;34m\"\"\"Search all candidates in param_grid\"\"\"\u001b[0m\u001b[0;34m\u001b[0m\u001b[0;34m\u001b[0m\u001b[0m\n\u001b[0;32m-> 1388\u001b[0;31m         \u001b[0mevaluate_candidates\u001b[0m\u001b[0;34m(\u001b[0m\u001b[0mParameterGrid\u001b[0m\u001b[0;34m(\u001b[0m\u001b[0mself\u001b[0m\u001b[0;34m.\u001b[0m\u001b[0mparam_grid\u001b[0m\u001b[0;34m)\u001b[0m\u001b[0;34m)\u001b[0m\u001b[0;34m\u001b[0m\u001b[0;34m\u001b[0m\u001b[0m\n\u001b[0m\u001b[1;32m   1389\u001b[0m \u001b[0;34m\u001b[0m\u001b[0m\n\u001b[1;32m   1390\u001b[0m \u001b[0;34m\u001b[0m\u001b[0m\n",
            "\u001b[0;32m/usr/local/lib/python3.10/dist-packages/sklearn/model_selection/_search.py\u001b[0m in \u001b[0;36mevaluate_candidates\u001b[0;34m(candidate_params, cv, more_results)\u001b[0m\n\u001b[1;32m    819\u001b[0m                     )\n\u001b[1;32m    820\u001b[0m \u001b[0;34m\u001b[0m\u001b[0m\n\u001b[0;32m--> 821\u001b[0;31m                 out = parallel(\n\u001b[0m\u001b[1;32m    822\u001b[0m                     delayed(_fit_and_score)(\n\u001b[1;32m    823\u001b[0m                         \u001b[0mclone\u001b[0m\u001b[0;34m(\u001b[0m\u001b[0mbase_estimator\u001b[0m\u001b[0;34m)\u001b[0m\u001b[0;34m,\u001b[0m\u001b[0;34m\u001b[0m\u001b[0;34m\u001b[0m\u001b[0m\n",
            "\u001b[0;32m/usr/local/lib/python3.10/dist-packages/sklearn/utils/parallel.py\u001b[0m in \u001b[0;36m__call__\u001b[0;34m(self, iterable)\u001b[0m\n\u001b[1;32m     61\u001b[0m             \u001b[0;32mfor\u001b[0m \u001b[0mdelayed_func\u001b[0m\u001b[0;34m,\u001b[0m \u001b[0margs\u001b[0m\u001b[0;34m,\u001b[0m \u001b[0mkwargs\u001b[0m \u001b[0;32min\u001b[0m \u001b[0miterable\u001b[0m\u001b[0;34m\u001b[0m\u001b[0;34m\u001b[0m\u001b[0m\n\u001b[1;32m     62\u001b[0m         )\n\u001b[0;32m---> 63\u001b[0;31m         \u001b[0;32mreturn\u001b[0m \u001b[0msuper\u001b[0m\u001b[0;34m(\u001b[0m\u001b[0;34m)\u001b[0m\u001b[0;34m.\u001b[0m\u001b[0m__call__\u001b[0m\u001b[0;34m(\u001b[0m\u001b[0miterable_with_config\u001b[0m\u001b[0;34m)\u001b[0m\u001b[0;34m\u001b[0m\u001b[0;34m\u001b[0m\u001b[0m\n\u001b[0m\u001b[1;32m     64\u001b[0m \u001b[0;34m\u001b[0m\u001b[0m\n\u001b[1;32m     65\u001b[0m \u001b[0;34m\u001b[0m\u001b[0m\n",
            "\u001b[0;32m/usr/local/lib/python3.10/dist-packages/joblib/parallel.py\u001b[0m in \u001b[0;36m__call__\u001b[0;34m(self, iterable)\u001b[0m\n\u001b[1;32m   1086\u001b[0m                 \u001b[0mself\u001b[0m\u001b[0;34m.\u001b[0m\u001b[0m_iterating\u001b[0m \u001b[0;34m=\u001b[0m \u001b[0mself\u001b[0m\u001b[0;34m.\u001b[0m\u001b[0m_original_iterator\u001b[0m \u001b[0;32mis\u001b[0m \u001b[0;32mnot\u001b[0m \u001b[0;32mNone\u001b[0m\u001b[0;34m\u001b[0m\u001b[0;34m\u001b[0m\u001b[0m\n\u001b[1;32m   1087\u001b[0m \u001b[0;34m\u001b[0m\u001b[0m\n\u001b[0;32m-> 1088\u001b[0;31m             \u001b[0;32mwhile\u001b[0m \u001b[0mself\u001b[0m\u001b[0;34m.\u001b[0m\u001b[0mdispatch_one_batch\u001b[0m\u001b[0;34m(\u001b[0m\u001b[0miterator\u001b[0m\u001b[0;34m)\u001b[0m\u001b[0;34m:\u001b[0m\u001b[0;34m\u001b[0m\u001b[0;34m\u001b[0m\u001b[0m\n\u001b[0m\u001b[1;32m   1089\u001b[0m                 \u001b[0;32mpass\u001b[0m\u001b[0;34m\u001b[0m\u001b[0;34m\u001b[0m\u001b[0m\n\u001b[1;32m   1090\u001b[0m \u001b[0;34m\u001b[0m\u001b[0m\n",
            "\u001b[0;32m/usr/local/lib/python3.10/dist-packages/joblib/parallel.py\u001b[0m in \u001b[0;36mdispatch_one_batch\u001b[0;34m(self, iterator)\u001b[0m\n\u001b[1;32m    899\u001b[0m                 \u001b[0;32mreturn\u001b[0m \u001b[0;32mFalse\u001b[0m\u001b[0;34m\u001b[0m\u001b[0;34m\u001b[0m\u001b[0m\n\u001b[1;32m    900\u001b[0m             \u001b[0;32melse\u001b[0m\u001b[0;34m:\u001b[0m\u001b[0;34m\u001b[0m\u001b[0;34m\u001b[0m\u001b[0m\n\u001b[0;32m--> 901\u001b[0;31m                 \u001b[0mself\u001b[0m\u001b[0;34m.\u001b[0m\u001b[0m_dispatch\u001b[0m\u001b[0;34m(\u001b[0m\u001b[0mtasks\u001b[0m\u001b[0;34m)\u001b[0m\u001b[0;34m\u001b[0m\u001b[0;34m\u001b[0m\u001b[0m\n\u001b[0m\u001b[1;32m    902\u001b[0m                 \u001b[0;32mreturn\u001b[0m \u001b[0;32mTrue\u001b[0m\u001b[0;34m\u001b[0m\u001b[0;34m\u001b[0m\u001b[0m\n\u001b[1;32m    903\u001b[0m \u001b[0;34m\u001b[0m\u001b[0m\n",
            "\u001b[0;32m/usr/local/lib/python3.10/dist-packages/joblib/parallel.py\u001b[0m in \u001b[0;36m_dispatch\u001b[0;34m(self, batch)\u001b[0m\n\u001b[1;32m    817\u001b[0m         \u001b[0;32mwith\u001b[0m \u001b[0mself\u001b[0m\u001b[0;34m.\u001b[0m\u001b[0m_lock\u001b[0m\u001b[0;34m:\u001b[0m\u001b[0;34m\u001b[0m\u001b[0;34m\u001b[0m\u001b[0m\n\u001b[1;32m    818\u001b[0m             \u001b[0mjob_idx\u001b[0m \u001b[0;34m=\u001b[0m \u001b[0mlen\u001b[0m\u001b[0;34m(\u001b[0m\u001b[0mself\u001b[0m\u001b[0;34m.\u001b[0m\u001b[0m_jobs\u001b[0m\u001b[0;34m)\u001b[0m\u001b[0;34m\u001b[0m\u001b[0;34m\u001b[0m\u001b[0m\n\u001b[0;32m--> 819\u001b[0;31m             \u001b[0mjob\u001b[0m \u001b[0;34m=\u001b[0m \u001b[0mself\u001b[0m\u001b[0;34m.\u001b[0m\u001b[0m_backend\u001b[0m\u001b[0;34m.\u001b[0m\u001b[0mapply_async\u001b[0m\u001b[0;34m(\u001b[0m\u001b[0mbatch\u001b[0m\u001b[0;34m,\u001b[0m \u001b[0mcallback\u001b[0m\u001b[0;34m=\u001b[0m\u001b[0mcb\u001b[0m\u001b[0;34m)\u001b[0m\u001b[0;34m\u001b[0m\u001b[0;34m\u001b[0m\u001b[0m\n\u001b[0m\u001b[1;32m    820\u001b[0m             \u001b[0;31m# A job can complete so quickly than its callback is\u001b[0m\u001b[0;34m\u001b[0m\u001b[0;34m\u001b[0m\u001b[0m\n\u001b[1;32m    821\u001b[0m             \u001b[0;31m# called before we get here, causing self._jobs to\u001b[0m\u001b[0;34m\u001b[0m\u001b[0;34m\u001b[0m\u001b[0m\n",
            "\u001b[0;32m/usr/local/lib/python3.10/dist-packages/joblib/_parallel_backends.py\u001b[0m in \u001b[0;36mapply_async\u001b[0;34m(self, func, callback)\u001b[0m\n\u001b[1;32m    206\u001b[0m     \u001b[0;32mdef\u001b[0m \u001b[0mapply_async\u001b[0m\u001b[0;34m(\u001b[0m\u001b[0mself\u001b[0m\u001b[0;34m,\u001b[0m \u001b[0mfunc\u001b[0m\u001b[0;34m,\u001b[0m \u001b[0mcallback\u001b[0m\u001b[0;34m=\u001b[0m\u001b[0;32mNone\u001b[0m\u001b[0;34m)\u001b[0m\u001b[0;34m:\u001b[0m\u001b[0;34m\u001b[0m\u001b[0;34m\u001b[0m\u001b[0m\n\u001b[1;32m    207\u001b[0m         \u001b[0;34m\"\"\"Schedule a func to be run\"\"\"\u001b[0m\u001b[0;34m\u001b[0m\u001b[0;34m\u001b[0m\u001b[0m\n\u001b[0;32m--> 208\u001b[0;31m         \u001b[0mresult\u001b[0m \u001b[0;34m=\u001b[0m \u001b[0mImmediateResult\u001b[0m\u001b[0;34m(\u001b[0m\u001b[0mfunc\u001b[0m\u001b[0;34m)\u001b[0m\u001b[0;34m\u001b[0m\u001b[0;34m\u001b[0m\u001b[0m\n\u001b[0m\u001b[1;32m    209\u001b[0m         \u001b[0;32mif\u001b[0m \u001b[0mcallback\u001b[0m\u001b[0;34m:\u001b[0m\u001b[0;34m\u001b[0m\u001b[0;34m\u001b[0m\u001b[0m\n\u001b[1;32m    210\u001b[0m             \u001b[0mcallback\u001b[0m\u001b[0;34m(\u001b[0m\u001b[0mresult\u001b[0m\u001b[0;34m)\u001b[0m\u001b[0;34m\u001b[0m\u001b[0;34m\u001b[0m\u001b[0m\n",
            "\u001b[0;32m/usr/local/lib/python3.10/dist-packages/joblib/_parallel_backends.py\u001b[0m in \u001b[0;36m__init__\u001b[0;34m(self, batch)\u001b[0m\n\u001b[1;32m    595\u001b[0m         \u001b[0;31m# Don't delay the application, to avoid keeping the input\u001b[0m\u001b[0;34m\u001b[0m\u001b[0;34m\u001b[0m\u001b[0m\n\u001b[1;32m    596\u001b[0m         \u001b[0;31m# arguments in memory\u001b[0m\u001b[0;34m\u001b[0m\u001b[0;34m\u001b[0m\u001b[0m\n\u001b[0;32m--> 597\u001b[0;31m         \u001b[0mself\u001b[0m\u001b[0;34m.\u001b[0m\u001b[0mresults\u001b[0m \u001b[0;34m=\u001b[0m \u001b[0mbatch\u001b[0m\u001b[0;34m(\u001b[0m\u001b[0;34m)\u001b[0m\u001b[0;34m\u001b[0m\u001b[0;34m\u001b[0m\u001b[0m\n\u001b[0m\u001b[1;32m    598\u001b[0m \u001b[0;34m\u001b[0m\u001b[0m\n\u001b[1;32m    599\u001b[0m     \u001b[0;32mdef\u001b[0m \u001b[0mget\u001b[0m\u001b[0;34m(\u001b[0m\u001b[0mself\u001b[0m\u001b[0;34m)\u001b[0m\u001b[0;34m:\u001b[0m\u001b[0;34m\u001b[0m\u001b[0;34m\u001b[0m\u001b[0m\n",
            "\u001b[0;32m/usr/local/lib/python3.10/dist-packages/joblib/parallel.py\u001b[0m in \u001b[0;36m__call__\u001b[0;34m(self)\u001b[0m\n\u001b[1;32m    286\u001b[0m         \u001b[0;31m# change the default number of processes to -1\u001b[0m\u001b[0;34m\u001b[0m\u001b[0;34m\u001b[0m\u001b[0m\n\u001b[1;32m    287\u001b[0m         \u001b[0;32mwith\u001b[0m \u001b[0mparallel_backend\u001b[0m\u001b[0;34m(\u001b[0m\u001b[0mself\u001b[0m\u001b[0;34m.\u001b[0m\u001b[0m_backend\u001b[0m\u001b[0;34m,\u001b[0m \u001b[0mn_jobs\u001b[0m\u001b[0;34m=\u001b[0m\u001b[0mself\u001b[0m\u001b[0;34m.\u001b[0m\u001b[0m_n_jobs\u001b[0m\u001b[0;34m)\u001b[0m\u001b[0;34m:\u001b[0m\u001b[0;34m\u001b[0m\u001b[0;34m\u001b[0m\u001b[0m\n\u001b[0;32m--> 288\u001b[0;31m             return [func(*args, **kwargs)\n\u001b[0m\u001b[1;32m    289\u001b[0m                     for func, args, kwargs in self.items]\n\u001b[1;32m    290\u001b[0m \u001b[0;34m\u001b[0m\u001b[0m\n",
            "\u001b[0;32m/usr/local/lib/python3.10/dist-packages/joblib/parallel.py\u001b[0m in \u001b[0;36m<listcomp>\u001b[0;34m(.0)\u001b[0m\n\u001b[1;32m    286\u001b[0m         \u001b[0;31m# change the default number of processes to -1\u001b[0m\u001b[0;34m\u001b[0m\u001b[0;34m\u001b[0m\u001b[0m\n\u001b[1;32m    287\u001b[0m         \u001b[0;32mwith\u001b[0m \u001b[0mparallel_backend\u001b[0m\u001b[0;34m(\u001b[0m\u001b[0mself\u001b[0m\u001b[0;34m.\u001b[0m\u001b[0m_backend\u001b[0m\u001b[0;34m,\u001b[0m \u001b[0mn_jobs\u001b[0m\u001b[0;34m=\u001b[0m\u001b[0mself\u001b[0m\u001b[0;34m.\u001b[0m\u001b[0m_n_jobs\u001b[0m\u001b[0;34m)\u001b[0m\u001b[0;34m:\u001b[0m\u001b[0;34m\u001b[0m\u001b[0;34m\u001b[0m\u001b[0m\n\u001b[0;32m--> 288\u001b[0;31m             return [func(*args, **kwargs)\n\u001b[0m\u001b[1;32m    289\u001b[0m                     for func, args, kwargs in self.items]\n\u001b[1;32m    290\u001b[0m \u001b[0;34m\u001b[0m\u001b[0m\n",
            "\u001b[0;32m/usr/local/lib/python3.10/dist-packages/sklearn/utils/parallel.py\u001b[0m in \u001b[0;36m__call__\u001b[0;34m(self, *args, **kwargs)\u001b[0m\n\u001b[1;32m    121\u001b[0m             \u001b[0mconfig\u001b[0m \u001b[0;34m=\u001b[0m \u001b[0;34m{\u001b[0m\u001b[0;34m}\u001b[0m\u001b[0;34m\u001b[0m\u001b[0;34m\u001b[0m\u001b[0m\n\u001b[1;32m    122\u001b[0m         \u001b[0;32mwith\u001b[0m \u001b[0mconfig_context\u001b[0m\u001b[0;34m(\u001b[0m\u001b[0;34m**\u001b[0m\u001b[0mconfig\u001b[0m\u001b[0;34m)\u001b[0m\u001b[0;34m:\u001b[0m\u001b[0;34m\u001b[0m\u001b[0;34m\u001b[0m\u001b[0m\n\u001b[0;32m--> 123\u001b[0;31m             \u001b[0;32mreturn\u001b[0m \u001b[0mself\u001b[0m\u001b[0;34m.\u001b[0m\u001b[0mfunction\u001b[0m\u001b[0;34m(\u001b[0m\u001b[0;34m*\u001b[0m\u001b[0margs\u001b[0m\u001b[0;34m,\u001b[0m \u001b[0;34m**\u001b[0m\u001b[0mkwargs\u001b[0m\u001b[0;34m)\u001b[0m\u001b[0;34m\u001b[0m\u001b[0;34m\u001b[0m\u001b[0m\n\u001b[0m",
            "\u001b[0;32m/usr/local/lib/python3.10/dist-packages/sklearn/model_selection/_validation.py\u001b[0m in \u001b[0;36m_fit_and_score\u001b[0;34m(estimator, X, y, scorer, train, test, verbose, parameters, fit_params, return_train_score, return_parameters, return_n_test_samples, return_times, return_estimator, split_progress, candidate_progress, error_score)\u001b[0m\n\u001b[1;32m    706\u001b[0m \u001b[0;34m\u001b[0m\u001b[0m\n\u001b[1;32m    707\u001b[0m         \u001b[0mfit_time\u001b[0m \u001b[0;34m=\u001b[0m \u001b[0mtime\u001b[0m\u001b[0;34m.\u001b[0m\u001b[0mtime\u001b[0m\u001b[0;34m(\u001b[0m\u001b[0;34m)\u001b[0m \u001b[0;34m-\u001b[0m \u001b[0mstart_time\u001b[0m\u001b[0;34m\u001b[0m\u001b[0;34m\u001b[0m\u001b[0m\n\u001b[0;32m--> 708\u001b[0;31m         \u001b[0mtest_scores\u001b[0m \u001b[0;34m=\u001b[0m \u001b[0m_score\u001b[0m\u001b[0;34m(\u001b[0m\u001b[0mestimator\u001b[0m\u001b[0;34m,\u001b[0m \u001b[0mX_test\u001b[0m\u001b[0;34m,\u001b[0m \u001b[0my_test\u001b[0m\u001b[0;34m,\u001b[0m \u001b[0mscorer\u001b[0m\u001b[0;34m,\u001b[0m \u001b[0merror_score\u001b[0m\u001b[0;34m)\u001b[0m\u001b[0;34m\u001b[0m\u001b[0;34m\u001b[0m\u001b[0m\n\u001b[0m\u001b[1;32m    709\u001b[0m         \u001b[0mscore_time\u001b[0m \u001b[0;34m=\u001b[0m \u001b[0mtime\u001b[0m\u001b[0;34m.\u001b[0m\u001b[0mtime\u001b[0m\u001b[0;34m(\u001b[0m\u001b[0;34m)\u001b[0m \u001b[0;34m-\u001b[0m \u001b[0mstart_time\u001b[0m \u001b[0;34m-\u001b[0m \u001b[0mfit_time\u001b[0m\u001b[0;34m\u001b[0m\u001b[0;34m\u001b[0m\u001b[0m\n\u001b[1;32m    710\u001b[0m         \u001b[0;32mif\u001b[0m \u001b[0mreturn_train_score\u001b[0m\u001b[0;34m:\u001b[0m\u001b[0;34m\u001b[0m\u001b[0;34m\u001b[0m\u001b[0m\n",
            "\u001b[0;32m/usr/local/lib/python3.10/dist-packages/sklearn/model_selection/_validation.py\u001b[0m in \u001b[0;36m_score\u001b[0;34m(estimator, X_test, y_test, scorer, error_score)\u001b[0m\n\u001b[1;32m    765\u001b[0m             \u001b[0mscores\u001b[0m \u001b[0;34m=\u001b[0m \u001b[0mscorer\u001b[0m\u001b[0;34m(\u001b[0m\u001b[0mestimator\u001b[0m\u001b[0;34m,\u001b[0m \u001b[0mX_test\u001b[0m\u001b[0;34m)\u001b[0m\u001b[0;34m\u001b[0m\u001b[0;34m\u001b[0m\u001b[0m\n\u001b[1;32m    766\u001b[0m         \u001b[0;32melse\u001b[0m\u001b[0;34m:\u001b[0m\u001b[0;34m\u001b[0m\u001b[0;34m\u001b[0m\u001b[0m\n\u001b[0;32m--> 767\u001b[0;31m             \u001b[0mscores\u001b[0m \u001b[0;34m=\u001b[0m \u001b[0mscorer\u001b[0m\u001b[0;34m(\u001b[0m\u001b[0mestimator\u001b[0m\u001b[0;34m,\u001b[0m \u001b[0mX_test\u001b[0m\u001b[0;34m,\u001b[0m \u001b[0my_test\u001b[0m\u001b[0;34m)\u001b[0m\u001b[0;34m\u001b[0m\u001b[0;34m\u001b[0m\u001b[0m\n\u001b[0m\u001b[1;32m    768\u001b[0m     \u001b[0;32mexcept\u001b[0m \u001b[0mException\u001b[0m\u001b[0;34m:\u001b[0m\u001b[0;34m\u001b[0m\u001b[0;34m\u001b[0m\u001b[0m\n\u001b[1;32m    769\u001b[0m         \u001b[0;32mif\u001b[0m \u001b[0misinstance\u001b[0m\u001b[0;34m(\u001b[0m\u001b[0mscorer\u001b[0m\u001b[0;34m,\u001b[0m \u001b[0m_MultimetricScorer\u001b[0m\u001b[0;34m)\u001b[0m\u001b[0;34m:\u001b[0m\u001b[0;34m\u001b[0m\u001b[0;34m\u001b[0m\u001b[0m\n",
            "\u001b[0;32m/usr/local/lib/python3.10/dist-packages/sklearn/metrics/_scorer.py\u001b[0m in \u001b[0;36m_passthrough_scorer\u001b[0;34m(estimator, *args, **kwargs)\u001b[0m\n\u001b[1;32m    442\u001b[0m \u001b[0;32mdef\u001b[0m \u001b[0m_passthrough_scorer\u001b[0m\u001b[0;34m(\u001b[0m\u001b[0mestimator\u001b[0m\u001b[0;34m,\u001b[0m \u001b[0;34m*\u001b[0m\u001b[0margs\u001b[0m\u001b[0;34m,\u001b[0m \u001b[0;34m**\u001b[0m\u001b[0mkwargs\u001b[0m\u001b[0;34m)\u001b[0m\u001b[0;34m:\u001b[0m\u001b[0;34m\u001b[0m\u001b[0;34m\u001b[0m\u001b[0m\n\u001b[1;32m    443\u001b[0m     \u001b[0;34m\"\"\"Function that wraps estimator.score\"\"\"\u001b[0m\u001b[0;34m\u001b[0m\u001b[0;34m\u001b[0m\u001b[0m\n\u001b[0;32m--> 444\u001b[0;31m     \u001b[0;32mreturn\u001b[0m \u001b[0mestimator\u001b[0m\u001b[0;34m.\u001b[0m\u001b[0mscore\u001b[0m\u001b[0;34m(\u001b[0m\u001b[0;34m*\u001b[0m\u001b[0margs\u001b[0m\u001b[0;34m,\u001b[0m \u001b[0;34m**\u001b[0m\u001b[0mkwargs\u001b[0m\u001b[0;34m)\u001b[0m\u001b[0;34m\u001b[0m\u001b[0;34m\u001b[0m\u001b[0m\n\u001b[0m\u001b[1;32m    445\u001b[0m \u001b[0;34m\u001b[0m\u001b[0m\n\u001b[1;32m    446\u001b[0m \u001b[0;34m\u001b[0m\u001b[0m\n",
            "\u001b[0;32m/usr/local/lib/python3.10/dist-packages/sklearn/base.py\u001b[0m in \u001b[0;36mscore\u001b[0;34m(self, X, y, sample_weight)\u001b[0m\n\u001b[1;32m    666\u001b[0m         \u001b[0;32mfrom\u001b[0m \u001b[0;34m.\u001b[0m\u001b[0mmetrics\u001b[0m \u001b[0;32mimport\u001b[0m \u001b[0maccuracy_score\u001b[0m\u001b[0;34m\u001b[0m\u001b[0;34m\u001b[0m\u001b[0m\n\u001b[1;32m    667\u001b[0m \u001b[0;34m\u001b[0m\u001b[0m\n\u001b[0;32m--> 668\u001b[0;31m         \u001b[0;32mreturn\u001b[0m \u001b[0maccuracy_score\u001b[0m\u001b[0;34m(\u001b[0m\u001b[0my\u001b[0m\u001b[0;34m,\u001b[0m \u001b[0mself\u001b[0m\u001b[0;34m.\u001b[0m\u001b[0mpredict\u001b[0m\u001b[0;34m(\u001b[0m\u001b[0mX\u001b[0m\u001b[0;34m)\u001b[0m\u001b[0;34m,\u001b[0m \u001b[0msample_weight\u001b[0m\u001b[0;34m=\u001b[0m\u001b[0msample_weight\u001b[0m\u001b[0;34m)\u001b[0m\u001b[0;34m\u001b[0m\u001b[0;34m\u001b[0m\u001b[0m\n\u001b[0m\u001b[1;32m    669\u001b[0m \u001b[0;34m\u001b[0m\u001b[0m\n\u001b[1;32m    670\u001b[0m     \u001b[0;32mdef\u001b[0m \u001b[0m_more_tags\u001b[0m\u001b[0;34m(\u001b[0m\u001b[0mself\u001b[0m\u001b[0;34m)\u001b[0m\u001b[0;34m:\u001b[0m\u001b[0;34m\u001b[0m\u001b[0;34m\u001b[0m\u001b[0m\n",
            "\u001b[0;32m/usr/local/lib/python3.10/dist-packages/sklearn/svm/_base.py\u001b[0m in \u001b[0;36mpredict\u001b[0;34m(self, X)\u001b[0m\n\u001b[1;32m    818\u001b[0m             \u001b[0my\u001b[0m \u001b[0;34m=\u001b[0m \u001b[0mnp\u001b[0m\u001b[0;34m.\u001b[0m\u001b[0margmax\u001b[0m\u001b[0;34m(\u001b[0m\u001b[0mself\u001b[0m\u001b[0;34m.\u001b[0m\u001b[0mdecision_function\u001b[0m\u001b[0;34m(\u001b[0m\u001b[0mX\u001b[0m\u001b[0;34m)\u001b[0m\u001b[0;34m,\u001b[0m \u001b[0maxis\u001b[0m\u001b[0;34m=\u001b[0m\u001b[0;36m1\u001b[0m\u001b[0;34m)\u001b[0m\u001b[0;34m\u001b[0m\u001b[0;34m\u001b[0m\u001b[0m\n\u001b[1;32m    819\u001b[0m         \u001b[0;32melse\u001b[0m\u001b[0;34m:\u001b[0m\u001b[0;34m\u001b[0m\u001b[0;34m\u001b[0m\u001b[0m\n\u001b[0;32m--> 820\u001b[0;31m             \u001b[0my\u001b[0m \u001b[0;34m=\u001b[0m \u001b[0msuper\u001b[0m\u001b[0;34m(\u001b[0m\u001b[0;34m)\u001b[0m\u001b[0;34m.\u001b[0m\u001b[0mpredict\u001b[0m\u001b[0;34m(\u001b[0m\u001b[0mX\u001b[0m\u001b[0;34m)\u001b[0m\u001b[0;34m\u001b[0m\u001b[0;34m\u001b[0m\u001b[0m\n\u001b[0m\u001b[1;32m    821\u001b[0m         \u001b[0;32mreturn\u001b[0m \u001b[0mself\u001b[0m\u001b[0;34m.\u001b[0m\u001b[0mclasses_\u001b[0m\u001b[0;34m.\u001b[0m\u001b[0mtake\u001b[0m\u001b[0;34m(\u001b[0m\u001b[0mnp\u001b[0m\u001b[0;34m.\u001b[0m\u001b[0masarray\u001b[0m\u001b[0;34m(\u001b[0m\u001b[0my\u001b[0m\u001b[0;34m,\u001b[0m \u001b[0mdtype\u001b[0m\u001b[0;34m=\u001b[0m\u001b[0mnp\u001b[0m\u001b[0;34m.\u001b[0m\u001b[0mintp\u001b[0m\u001b[0;34m)\u001b[0m\u001b[0;34m)\u001b[0m\u001b[0;34m\u001b[0m\u001b[0;34m\u001b[0m\u001b[0m\n\u001b[1;32m    822\u001b[0m \u001b[0;34m\u001b[0m\u001b[0m\n",
            "\u001b[0;32m/usr/local/lib/python3.10/dist-packages/sklearn/svm/_base.py\u001b[0m in \u001b[0;36mpredict\u001b[0;34m(self, X)\u001b[0m\n\u001b[1;32m    433\u001b[0m         \u001b[0mX\u001b[0m \u001b[0;34m=\u001b[0m \u001b[0mself\u001b[0m\u001b[0;34m.\u001b[0m\u001b[0m_validate_for_predict\u001b[0m\u001b[0;34m(\u001b[0m\u001b[0mX\u001b[0m\u001b[0;34m)\u001b[0m\u001b[0;34m\u001b[0m\u001b[0;34m\u001b[0m\u001b[0m\n\u001b[1;32m    434\u001b[0m         \u001b[0mpredict\u001b[0m \u001b[0;34m=\u001b[0m \u001b[0mself\u001b[0m\u001b[0;34m.\u001b[0m\u001b[0m_sparse_predict\u001b[0m \u001b[0;32mif\u001b[0m \u001b[0mself\u001b[0m\u001b[0;34m.\u001b[0m\u001b[0m_sparse\u001b[0m \u001b[0;32melse\u001b[0m \u001b[0mself\u001b[0m\u001b[0;34m.\u001b[0m\u001b[0m_dense_predict\u001b[0m\u001b[0;34m\u001b[0m\u001b[0;34m\u001b[0m\u001b[0m\n\u001b[0;32m--> 435\u001b[0;31m         \u001b[0;32mreturn\u001b[0m \u001b[0mpredict\u001b[0m\u001b[0;34m(\u001b[0m\u001b[0mX\u001b[0m\u001b[0;34m)\u001b[0m\u001b[0;34m\u001b[0m\u001b[0;34m\u001b[0m\u001b[0m\n\u001b[0m\u001b[1;32m    436\u001b[0m \u001b[0;34m\u001b[0m\u001b[0m\n\u001b[1;32m    437\u001b[0m     \u001b[0;32mdef\u001b[0m \u001b[0m_dense_predict\u001b[0m\u001b[0;34m(\u001b[0m\u001b[0mself\u001b[0m\u001b[0;34m,\u001b[0m \u001b[0mX\u001b[0m\u001b[0;34m)\u001b[0m\u001b[0;34m:\u001b[0m\u001b[0;34m\u001b[0m\u001b[0;34m\u001b[0m\u001b[0m\n",
            "\u001b[0;32m/usr/local/lib/python3.10/dist-packages/sklearn/svm/_base.py\u001b[0m in \u001b[0;36m_sparse_predict\u001b[0;34m(self, X)\u001b[0m\n\u001b[1;32m    479\u001b[0m         \u001b[0mC\u001b[0m \u001b[0;34m=\u001b[0m \u001b[0;36m0.0\u001b[0m  \u001b[0;31m# C is not useful here\u001b[0m\u001b[0;34m\u001b[0m\u001b[0;34m\u001b[0m\u001b[0m\n\u001b[1;32m    480\u001b[0m \u001b[0;34m\u001b[0m\u001b[0m\n\u001b[0;32m--> 481\u001b[0;31m         return libsvm_sparse.libsvm_sparse_predict(\n\u001b[0m\u001b[1;32m    482\u001b[0m             \u001b[0mX\u001b[0m\u001b[0;34m.\u001b[0m\u001b[0mdata\u001b[0m\u001b[0;34m,\u001b[0m\u001b[0;34m\u001b[0m\u001b[0;34m\u001b[0m\u001b[0m\n\u001b[1;32m    483\u001b[0m             \u001b[0mX\u001b[0m\u001b[0;34m.\u001b[0m\u001b[0mindices\u001b[0m\u001b[0;34m,\u001b[0m\u001b[0;34m\u001b[0m\u001b[0;34m\u001b[0m\u001b[0m\n",
            "\u001b[0;31mKeyboardInterrupt\u001b[0m: "
          ]
        }
      ]
    },
    {
      "cell_type": "code",
      "source": [
        "from sklearn.svm import SVC\n",
        "# model = SVC(**best_params)\n",
        "model = SVC()"
      ],
      "metadata": {
        "id": "SGvC90wC5rIr"
      },
      "execution_count": 12,
      "outputs": []
    },
    {
      "cell_type": "code",
      "source": [
        "model.fit(X_train, y_train)"
      ],
      "metadata": {
        "colab": {
          "base_uri": "https://localhost:8080/",
          "height": 75
        },
        "id": "5vmUc6vUPEy2",
        "outputId": "1ea8d747-f178-451f-d1d8-ca8a24db1f16"
      },
      "execution_count": 13,
      "outputs": [
        {
          "output_type": "execute_result",
          "data": {
            "text/plain": [
              "SVC()"
            ],
            "text/html": [
              "<style>#sk-container-id-1 {color: black;background-color: white;}#sk-container-id-1 pre{padding: 0;}#sk-container-id-1 div.sk-toggleable {background-color: white;}#sk-container-id-1 label.sk-toggleable__label {cursor: pointer;display: block;width: 100%;margin-bottom: 0;padding: 0.3em;box-sizing: border-box;text-align: center;}#sk-container-id-1 label.sk-toggleable__label-arrow:before {content: \"▸\";float: left;margin-right: 0.25em;color: #696969;}#sk-container-id-1 label.sk-toggleable__label-arrow:hover:before {color: black;}#sk-container-id-1 div.sk-estimator:hover label.sk-toggleable__label-arrow:before {color: black;}#sk-container-id-1 div.sk-toggleable__content {max-height: 0;max-width: 0;overflow: hidden;text-align: left;background-color: #f0f8ff;}#sk-container-id-1 div.sk-toggleable__content pre {margin: 0.2em;color: black;border-radius: 0.25em;background-color: #f0f8ff;}#sk-container-id-1 input.sk-toggleable__control:checked~div.sk-toggleable__content {max-height: 200px;max-width: 100%;overflow: auto;}#sk-container-id-1 input.sk-toggleable__control:checked~label.sk-toggleable__label-arrow:before {content: \"▾\";}#sk-container-id-1 div.sk-estimator input.sk-toggleable__control:checked~label.sk-toggleable__label {background-color: #d4ebff;}#sk-container-id-1 div.sk-label input.sk-toggleable__control:checked~label.sk-toggleable__label {background-color: #d4ebff;}#sk-container-id-1 input.sk-hidden--visually {border: 0;clip: rect(1px 1px 1px 1px);clip: rect(1px, 1px, 1px, 1px);height: 1px;margin: -1px;overflow: hidden;padding: 0;position: absolute;width: 1px;}#sk-container-id-1 div.sk-estimator {font-family: monospace;background-color: #f0f8ff;border: 1px dotted black;border-radius: 0.25em;box-sizing: border-box;margin-bottom: 0.5em;}#sk-container-id-1 div.sk-estimator:hover {background-color: #d4ebff;}#sk-container-id-1 div.sk-parallel-item::after {content: \"\";width: 100%;border-bottom: 1px solid gray;flex-grow: 1;}#sk-container-id-1 div.sk-label:hover label.sk-toggleable__label {background-color: #d4ebff;}#sk-container-id-1 div.sk-serial::before {content: \"\";position: absolute;border-left: 1px solid gray;box-sizing: border-box;top: 0;bottom: 0;left: 50%;z-index: 0;}#sk-container-id-1 div.sk-serial {display: flex;flex-direction: column;align-items: center;background-color: white;padding-right: 0.2em;padding-left: 0.2em;position: relative;}#sk-container-id-1 div.sk-item {position: relative;z-index: 1;}#sk-container-id-1 div.sk-parallel {display: flex;align-items: stretch;justify-content: center;background-color: white;position: relative;}#sk-container-id-1 div.sk-item::before, #sk-container-id-1 div.sk-parallel-item::before {content: \"\";position: absolute;border-left: 1px solid gray;box-sizing: border-box;top: 0;bottom: 0;left: 50%;z-index: -1;}#sk-container-id-1 div.sk-parallel-item {display: flex;flex-direction: column;z-index: 1;position: relative;background-color: white;}#sk-container-id-1 div.sk-parallel-item:first-child::after {align-self: flex-end;width: 50%;}#sk-container-id-1 div.sk-parallel-item:last-child::after {align-self: flex-start;width: 50%;}#sk-container-id-1 div.sk-parallel-item:only-child::after {width: 0;}#sk-container-id-1 div.sk-dashed-wrapped {border: 1px dashed gray;margin: 0 0.4em 0.5em 0.4em;box-sizing: border-box;padding-bottom: 0.4em;background-color: white;}#sk-container-id-1 div.sk-label label {font-family: monospace;font-weight: bold;display: inline-block;line-height: 1.2em;}#sk-container-id-1 div.sk-label-container {text-align: center;}#sk-container-id-1 div.sk-container {/* jupyter's `normalize.less` sets `[hidden] { display: none; }` but bootstrap.min.css set `[hidden] { display: none !important; }` so we also need the `!important` here to be able to override the default hidden behavior on the sphinx rendered scikit-learn.org. See: https://github.com/scikit-learn/scikit-learn/issues/21755 */display: inline-block !important;position: relative;}#sk-container-id-1 div.sk-text-repr-fallback {display: none;}</style><div id=\"sk-container-id-1\" class=\"sk-top-container\"><div class=\"sk-text-repr-fallback\"><pre>SVC()</pre><b>In a Jupyter environment, please rerun this cell to show the HTML representation or trust the notebook. <br />On GitHub, the HTML representation is unable to render, please try loading this page with nbviewer.org.</b></div><div class=\"sk-container\" hidden><div class=\"sk-item\"><div class=\"sk-estimator sk-toggleable\"><input class=\"sk-toggleable__control sk-hidden--visually\" id=\"sk-estimator-id-1\" type=\"checkbox\" checked><label for=\"sk-estimator-id-1\" class=\"sk-toggleable__label sk-toggleable__label-arrow\">SVC</label><div class=\"sk-toggleable__content\"><pre>SVC()</pre></div></div></div></div></div>"
            ]
          },
          "metadata": {},
          "execution_count": 13
        }
      ]
    },
    {
      "cell_type": "code",
      "source": [
        "y_pred = model.predict(X_test)"
      ],
      "metadata": {
        "id": "dsl4_Cyt4sDS"
      },
      "execution_count": 14,
      "outputs": []
    },
    {
      "cell_type": "code",
      "source": [
        "print(y_pred)"
      ],
      "metadata": {
        "id": "sCwhlsXfQhzY",
        "colab": {
          "base_uri": "https://localhost:8080/"
        },
        "outputId": "f787ddc9-89b5-4cac-84f0-38712542a1fd"
      },
      "execution_count": 15,
      "outputs": [
        {
          "output_type": "stream",
          "name": "stdout",
          "text": [
            "['Crashed while en route' 'Crashed while attempting to land'\n",
            " 'Flew into a mountain' 'Crashed short of the runway'\n",
            " 'Crashed short of the runway' 'Shot down by Afghan rebels'\n",
            " 'Engine failure' 'Crashed on approach' 'Shot down by British aircraft'\n",
            " 'Crashed while taking off' 'Shot down by rebels'\n",
            " 'Crashed shortly after taking off' 'Crashed short of the runway'\n",
            " 'Crashed shortly after taking off' 'Crashed into a village'\n",
            " 'Crashed while attempting to land' 'Weather related'\n",
            " 'Crashed while attempting to land' 'Crashed shortly after taking off'\n",
            " 'Crashed while taking off' 'The cargo plane crashed' 'Midair collision'\n",
            " 'The cargo plane crashed' 'Shot down by enemy fire'\n",
            " 'Crashed into a mountain' 'Crashed on approach' 'Crashed while landing'\n",
            " 'Crashed into a mountain' 'Crashed into mountains'\n",
            " 'Crashed into the sea Most probably the captain suffered a heart attack and the first officer could not regain control of aircraft'\n",
            " 'Crashed shortly after taking off' 'Crashed after running out of fuel'\n",
            " 'Crashed into a mountainside in a snowstorm' 'Pilot error'\n",
            " 'Disappeared while en route'\n",
            " 'Crashed Continued VFR flight into adverse weather conditions'\n",
            " 'Crashed while en route' 'Crashed shortly after taking off'\n",
            " 'Went missing en route' 'The helicopter crashed into the sea'\n",
            " 'Crashed shortly after taking off' 'Crashed into mountains'\n",
            " 'Engine failure' 'The helicopter crashed into the sea'\n",
            " 'Crashed while taking off' 'Engine failure'\n",
            " 'The mail plane crashed while taking off' 'Crashed into mountains'\n",
            " 'Struck a mountain' 'Shot down by enemy fire'\n",
            " 'Crashed during a landing attempt'\n",
            " 'The mail plane crashed in a heavy snow storm' 'Crashed into mountains'\n",
            " 'Shot down by British aircraft' 'Crashed while landing'\n",
            " 'Crashed short of the runway' 'Crashed shortly after taking off'\n",
            " 'Crashed short of the runway' 'Struck a mountain'\n",
            " 'Shot down by a surface-to-air missile' 'Crashed while landing'\n",
            " 'Engine failure' 'Crashed into a ravine while attempting to land'\n",
            " 'Flew into a mountain' 'Crashed short of the runway'\n",
            " 'Crashed into the sea' 'Crashed while attempting to land'\n",
            " 'Crashed during takeoff' 'Crashed on take off' 'Engine failure'\n",
            " 'Crashed into a mountain while en route' 'Cause undetermined'\n",
            " 'Crashed during takeoff' 'Crashed into mountains'\n",
            " 'Crashed shortly after takeoff' 'Crashed during a landing attempt'\n",
            " 'Crashed while landing' 'Crashed in poor weather'\n",
            " 'Crashed in poor weather' 'Crashed while landing' 'Pilot error'\n",
            " 'The cargo plane crashed' 'Crashed while landing'\n",
            " 'Crashed while en route' 'Crashed while attempting to land'\n",
            " 'Crashed after being struck by lightning'\n",
            " 'Crashed during a landing attempt'\n",
            " 'Crashed into the sea in poor weather conditions'\n",
            " 'Crashed into the ocean' 'Crashed while en route'\n",
            " 'Crashed into a mountain while inbound for Bogota'\n",
            " 'Crashed while landing' 'Crashed in poor weather' 'Went missing en route'\n",
            " 'Crashed while taking off' 'Crashed into the sea' 'Crashed on approach'\n",
            " 'The mail plane crashed in a heavy snow storm' 'Engine failure'\n",
            " 'Crashed while taking off' 'Crashed while attempting to land'\n",
            " 'Crashed after engine failure on climb to cruise Fuel starvation Ice in fuel Improper emergency procedures'\n",
            " 'Crashed into mountains' 'Crashed during takeoff'\n",
            " 'Crashed while en route' 'Crashed shortly after takeoff'\n",
            " 'Crashed while attempting to land' 'Flew into a mountain'\n",
            " 'Struck a mountain'\n",
            " \"The aircraft crashed short of runway during a visual approach in deteriorating weather conditions Failure of the flight crew to properly monitor the aircraft's height during the approach into deteriorating weather conditions resulting in an excessive sink rate Excessive sink rate is thought to have caused four 727 accidents in succession  Lake Michigan 8/16/65 Cincinnati 11/8/65 Salt Lake City 11/11/65 and Tokyo Bay 2/4/66 Only the Salt Lake and Cincinnati crashes were officially attributed to it After 727 training manuals were modified and pilots were reoriented to the flying characteristics of the aircraft the problem was corrected\"\n",
            " 'Crashed into the sea' 'Crashed during takeoff' 'Engine failure'\n",
            " 'Shot down by rebels' 'The cargo plane disappeared en route'\n",
            " 'Crashed while en route' 'Crashed into a hill during a sandstorm'\n",
            " 'Crashed on take off' 'Crashed on a training flight'\n",
            " 'Crashed on approach' 'The mail plane crashed in a heavy snow storm'\n",
            " 'Cargo plane' 'Shot down by Japanese military aircraft'\n",
            " 'Crashed during takeoff' 'Crashed shortly after taking off'\n",
            " 'Crashed on approach' 'Broke up in midair and crashed'\n",
            " 'Struck a mountain' 'Crashed into the ocean' 'Engine failure'\n",
            " 'Crashed while landing' 'Engine failure' 'Crashed while landing'\n",
            " 'Engine failure' 'Crashed into a mountainside in a snowstorm'\n",
            " 'Crashed while attempting to land' 'Pilot error'\n",
            " 'Crashed while taking off' 'Crashed into a mountain while en route'\n",
            " 'Pilot did not follow prescribed route nor follow prescribed IFR procedures'\n",
            " 'Crashed into a mountain' 'Crashed on approach'\n",
            " 'Crashed short of the runway' 'Crashed in poor weather'\n",
            " 'Crashed short of the runway'\n",
            " 'Crashed into a mountainside in a snowstorm'\n",
            " 'Crashed while attempting to land'\n",
            " 'Crashed into a mountain while en route' 'Crashed into a mountain'\n",
            " 'Engine failure' 'Crashed shortly after taking off'\n",
            " 'Flew into a mountain' 'The mail plane crashed in a heavy snow storm'\n",
            " 'Crashed on approach' 'Crashed on approach' 'Engine failure'\n",
            " 'Crashed into a mountain in fog  Continued VFR flight into adverse weather conditions'\n",
            " 'Crashed short of the runway' 'Crashed short of the runway'\n",
            " 'Crashed shortly after takeoff'\n",
            " 'Crashed in mountainous terrain  50 miles north of Rio de Janeiro while on approach'\n",
            " 'Crashed and caught fire' 'Crashed while en route'\n",
            " 'Crashed shortly after taking off' 'Disappeared while en route'\n",
            " 'Crashed while attempting to land' 'Crashed in poor weather'\n",
            " 'Crashed into the sea in poor weather conditions'\n",
            " 'Crashed while en route' 'Crashed during a landing attempt'\n",
            " 'Crashed short of the runway'\n",
            " 'Crashed after experiencing engine problems'\n",
            " 'Crashed short of the runway' 'Crashed while en route'\n",
            " 'Shot down by British aircraft' 'Struck a mountain' 'Cargo plane'\n",
            " 'Engine failure'\n",
            " 'The cargo plane struck a mountain while dropping supplies'\n",
            " 'Crashed into a mountainside in a snowstorm'\n",
            " 'Crashed into the Mediterranean Sea' 'Crashed on approach'\n",
            " 'Crashed while attempting to land' 'Crashed in poor weather'\n",
            " 'Crashed during takeoff' 'Crashed into a mountain' 'Engine failure'\n",
            " 'Crashed shortly after takeoff' 'Shot down by Japanese military aircraft'\n",
            " 'Struck a mountain' 'Crashed while en route'\n",
            " 'Crashed while attempting to land' 'Crashed shortly after takeoff'\n",
            " 'Crashed into the sea in poor weather conditions'\n",
            " 'Crashed shortly after takeoff' 'Pilot error' 'Engine failure'\n",
            " 'Crashed on approach' 'Crashed after being struck by lightning'\n",
            " 'The cargo plane crashed' 'Crashed during takeoff'\n",
            " 'The mail plane crashed in a heavy snow storm'\n",
            " 'The cargo plane crashed short of the runway while attempting to land'\n",
            " 'Crashed into the sea' 'The cargo plane crashed' 'Crashed into mountains'\n",
            " 'Shot down by a surface-to-air missile' 'Crashed into the ocean'\n",
            " 'Struck high ground' 'Crashed while landing' 'Crashed into the sea'\n",
            " 'Crashed into mountains' 'Crashed shortly after taking off'\n",
            " 'Engine failure' 'Crashed short of the runway' 'Crashed into a mountain'\n",
            " 'Crashed on approach' 'Engine failure' 'Crashed on approach'\n",
            " 'Crashed while attempting to land' 'Crashed while attempting to land'\n",
            " 'Crashed shortly after taking off' 'Crashed shortly after taking off'\n",
            " 'Crashed after running out of fuel'\n",
            " 'The cargo plane crashed short of the runway while attempting to land'\n",
            " 'Crashed short of the runway' 'Crashed while en route'\n",
            " 'Crashed while en route' 'Crashed after being struck by lightning'\n",
            " 'The mail plane crashed in a heavy snow storm' 'The cargo plane crashed'\n",
            " 'The helicopter crashed into the sea' 'Crashed short of the runway'\n",
            " 'Crashed into a mountain'\n",
            " 'The cargo plane crashed short of the runway while attempting to land'\n",
            " 'Crashed during takeoff' 'Crashed while attempting to land'\n",
            " 'Crashed while attempting to land' 'Crashed short of the runway'\n",
            " 'Engine failure' 'Crashed shortly after takeoff' 'Crashed into mountains'\n",
            " 'Disappeared while en route' 'Engine failure'\n",
            " 'Disappeared while en route' 'Crashed into a mountainside in a snowstorm'\n",
            " 'Pilot error' 'Crashed into the sea' 'Crashed into the sea'\n",
            " 'Descended into obscured mountain slope Continued VFR flight into adverse weather'\n",
            " 'Crashed and burned' 'Crashed while attempting to land' 'Cargo plane'\n",
            " 'Crashed during takeoff' 'Crashed into a mountain'\n",
            " 'The cargo plane crashed short of the runway while attempting to land'\n",
            " 'Crashed on approach' 'Crashed while landing' 'Crashed while en route'\n",
            " 'Crashed during a landing attempt'\n",
            " 'The cargo plane crashed short of the runway while attempting to land'\n",
            " 'Crashed during a landing attempt' 'Crashed shortly after taking off'\n",
            " 'Crashed in a rainstorm' 'Crashed into a mountain while en route'\n",
            " 'Crashed on approach' 'Crashed into the Mediterranean'\n",
            " 'Crashed into a mountain'\n",
            " 'Crashed while making an approach to Le Bourget Airport in Paris'\n",
            " 'Crashed into a mountain while en route' 'Crashed into the sea'\n",
            " 'Struck a mountain' 'Crashed while en route'\n",
            " 'The mail plane crashed in a heavy snow storm'\n",
            " 'Crashed into the sea in poor weather conditions'\n",
            " 'The left wing separated from the plane in extreme turbulence from a thunderstorm'\n",
            " 'Crashed while taking off' 'Crashed while attempting to land'\n",
            " 'Crashed on approach' 'The cargo plane crashed'\n",
            " 'Crashed while taking off' 'Shot down by rebel forces'\n",
            " 'Crashed short of the runway' 'Crashed while attempting to land'\n",
            " 'Crashed on approach' 'The cargo plane crashed' 'Engine failure'\n",
            " 'Crashed while taking off' 'Crashed on approach' 'Flew into a mountain'\n",
            " 'The aircraft crashed into high ground' 'Disappeared while en route'\n",
            " 'Engine failure' 'The plane stalled and crashed'\n",
            " 'Crashed while taking off'\n",
            " 'Collided with trees in fog on final approach Improper IFR operation'\n",
            " 'Crashed on approach'\n",
            " 'Crashed into a hill in poor visibility low clouds and fog'\n",
            " 'Crashed on approach' 'Midair collision'\n",
            " 'Crashed into the sea in poor weather conditions' 'Midair collision'\n",
            " 'Crashed while en route' 'Pilot error' 'Crashed during takeoff'\n",
            " 'Crashed while en route' 'Engine failure'\n",
            " 'Crashed into a mountain while en route' 'Cargo plane'\n",
            " 'Crashed into mountains' 'Crashed while attempting to land'\n",
            " \"The plane was over the English Channel when an engine failed The pilot tried to return to the airport but the plane ditched into the English Channel The plane was named 'City of Ottawa'\"\n",
            " 'Crashed into power lines' 'Crashed short of the runway'\n",
            " 'Crashed shortly after taking off' 'Crashed short of the runway'\n",
            " 'Crashed short of the runway' 'Crashed while en route'\n",
            " 'Crashed on approach' 'Crashed in poor weather' 'Crashed during takeoff'\n",
            " 'Crashed while en route' 'Crashed during takeoff' 'Crashed due to icing'\n",
            " 'The aircraft went in to a spin and crashed in a wooded area and caught fire'\n",
            " 'Crashed during a landing attempt' 'Crashed while landing'\n",
            " 'Crashed Continued VFR flight into adverse weather conditions'\n",
            " 'Crashed into the sea' 'The mail plane crashed in a heavy snow storm'\n",
            " 'Crashed into mountains' 'Flew into a mountain'\n",
            " 'A loss of control possibly initiated by an unexpected encounter with moderate to severe clear air turbulence which caused the aircraft to depart the narrow flight envelope boundaries in which it was operating and from which recovery was not effected'\n",
            " 'Crashed short of the runway' 'Crashed while landing'\n",
            " 'Disappeared while en route' 'Crashed shortly after taking off'\n",
            " 'Ran out of fuel on the initial climb and crashed Fuel starvation Fuel selector valves positioned to auxiliary tanks'\n",
            " 'The float plane flew into a blind canyon and crashed into water Continued VFR flight into adverse weather conditions'\n",
            " 'Crashed into the sea' 'The mail plane crashed in a heavy snow storm'\n",
            " 'Crashed in poor weather' 'Crashed short of the runway'\n",
            " 'Crashed into a mountain while en route' 'Crashed into the sea'\n",
            " 'Engine failure' 'Crashed shortly after takeoff'\n",
            " 'Crashed while attempting to land' 'Crashed while en route'\n",
            " 'The cargo plane crashed' 'Went missing en route' 'Engine failure'\n",
            " 'Pilot error' 'Crashed into a mountain while en route'\n",
            " 'Crashed while en route' 'Pilot error' 'Went missing en route'\n",
            " 'Crashed into Mar Chiquita Lagoon during a heavy rainstorm'\n",
            " 'Crashed while taking off' 'The cargo plane crashed'\n",
            " 'Crashed while landing' 'Crashed into mountains' 'Struck a mountain'\n",
            " 'Crashed into a mountainside in a snowstorm'\n",
            " 'The cargo plane crashed short of the runway while attempting to land'\n",
            " 'Crashed shortly after takeoff' 'Crashed into the ocean' 'Cargo plane'\n",
            " 'Crashed on approach' 'Crashed while taking off' 'Struck a mountain'\n",
            " 'Crashed while landing' 'Engine failure' 'Crashed into a mountain'\n",
            " 'Crashed short of the runway' 'Crashed while attempting to land'\n",
            " 'Struck a mountain' 'Crashed while taking off' 'Crashed during takeoff'\n",
            " 'Struck a mountain' 'The cargo plane crashed' 'The cargo plane crashed'\n",
            " 'Crashed while attempting to land' 'Crashed on approach'\n",
            " 'Crashed in poor weather' 'Crashed in poor weather'\n",
            " 'Crashed during takeoff' 'Crashed while landing' 'Shot down by rebels'\n",
            " 'Crashed while en route' 'Disappeared while en route'\n",
            " 'Crashed into a mountain' 'Crashed on approach' 'Crashed during takeoff'\n",
            " 'Struck a mountain' 'Crashed into the ocean' 'Crashed while landing'\n",
            " 'Pilot error' 'Engine failure' 'Crashed into a mountain'\n",
            " 'Crashed short of the runway' 'Crashed into a mountain'\n",
            " 'Crashed into the sea in poor weather conditions' 'Crashed on approach'\n",
            " 'The mail plane ditched into the English Channel after encountering 60 mile-an-hour gale force winds'\n",
            " 'Crashed into a mountain' 'Engine failure'\n",
            " 'The cargo plane crashed short of the runway while attempting to land'\n",
            " 'The plane stalled and crashed' 'Crashed into a mountain'\n",
            " 'Crashed during a landing attempt' 'Pilot error' 'Crashed during takeoff'\n",
            " 'Crashed while taking off' 'Crashed in poor weather'\n",
            " 'The helicopter crashed into the sea' 'Crashed during takeoff'\n",
            " 'Crashed in poor weather' 'Crashed on approach'\n",
            " 'Crashed Continued VFR flight into adverse weather conditions'\n",
            " 'Crashed into a mountain' 'The mail plane crashed in a heavy snow storm'\n",
            " 'Engine failure' 'Weather related' 'Crashed while en route'\n",
            " 'Crashed during takeoff' 'Crashed while attempting to land'\n",
            " 'The cargo plane crashed short of the runway while attempting to land'\n",
            " 'The cargo plane crashed' 'Crashed while landing'\n",
            " 'Crashed into a mountain while en route' 'Crashed during takeoff'\n",
            " 'The mail plane crashed in a heavy snow storm' 'Crashed while en route'\n",
            " 'Pilot error' 'Crashed shortly after taking off' 'Crashed into the sea'\n",
            " 'Crashed into the sea' 'Crashed shortly after taking off'\n",
            " 'Crashed into the ocean' 'The plane missing and never found'\n",
            " 'The cargo plane crashed' 'Crashed short of the runway'\n",
            " 'Crashed in poor weather' 'The cargo plane struck a mountain en route'\n",
            " 'Crashed into the sea' 'Pilot error'\n",
            " 'Shot down by a surface-to-air missile'\n",
            " 'The helicopter crashed into the sea' 'Crashed while en route'\n",
            " 'Shot down by Afghan rebels' 'The cargo plane crashed'\n",
            " 'Crashed shortly after taking off'\n",
            " 'The cargo plane crashed short of the runway while attempting to land'\n",
            " 'The cargo plane crashed' 'Crashed while attempting to land'\n",
            " 'Engine failure' 'The cargo plane crashed' 'Crashed short of the runway'\n",
            " 'In-flight separation of a main rotor blade due to fatigue failure of the main rotor blade spar which originated at a manufacturing induced scratch (tool mark) that was the result of inadequate quality control'\n",
            " 'The mail plane crashed in a heavy snow storm' 'Crashed while taking off'\n",
            " 'Crashed while en route' 'Crashed into mountains' 'Flew into a mountain'\n",
            " 'Cargo plane' 'Went missing en route' 'The cargo plane crashed en route'\n",
            " 'Flew into a mountain' 'The helicopter crashed into the sea'\n",
            " 'Crashed in poor weather' 'Engine failure'\n",
            " 'The aircraft crashed while attempting to make an emergency landing'\n",
            " 'Crashed while landing' 'Crashed in poor weather' 'Went missing en route'\n",
            " 'Crashed while taking off' 'Crashed short of the runway'\n",
            " 'Crashed while taking off' 'Crashed while attempting to land'\n",
            " 'Disappeared while en route' 'Crashed into a mountain while en route'\n",
            " 'Crashed into mountains' 'Engine failure'\n",
            " 'The mail plane crashed in a heavy snow storm' 'Engine failure'\n",
            " 'Crashed into the sea' 'Crashed while en route' 'Crashed on approach'\n",
            " 'Struck a mountain' 'The cargo plane crashed' 'Crashed on approach'\n",
            " 'Pilot error' 'Crashed during a landing attempt'\n",
            " 'Crashed while attempting to land' 'Shot down by British aircraft'\n",
            " 'Engine failure'\n",
            " 'The pilot flew into a blind box canyon and crashed while attempting to turn around Improper in-flight planning /decision by the pilot and his failure to remain clear of mountainous terrain The box canyon and proximity of mountains were related factors'\n",
            " 'Crashed during takeoff' 'Crashed while en route' 'Crashed into the sea'\n",
            " 'Crashed while landing'\n",
            " 'During a low level flight the crew lost reference with the ground and crashed'\n",
            " 'The cargo plane crashed short of the runway while attempting to land'\n",
            " 'The cargo plane crashed' 'Crashed in poor weather'\n",
            " 'A mid-air collision occurred between the two helicopters at about 1000 ft altitude'\n",
            " 'Crashed into a mountain' 'Shot down by enemy fire'\n",
            " 'Crashed shortly after taking off' 'Engine failure'\n",
            " 'Went missing en route' 'Crashed into the sea' 'Crashed during takeoff'\n",
            " 'Crashed into the ocean' 'Shot down by British aircraft'\n",
            " 'Crashed while en route' 'Flew into a mountain'\n",
            " 'Crashed while attempting to land' 'Crashed on approach'\n",
            " 'Crashed while taking off' 'Crashed into the ocean'\n",
            " 'Crashed while attempting to land' 'Crashed while en route'\n",
            " 'Crashed and burst into flames into a rice paddy after experiencing a malfunction of the left engine'\n",
            " 'Crashed during takeoff' 'Crashed into a mountain'\n",
            " 'Inadvertently shot down by French anti-aircraft fire'\n",
            " 'The cargo plane crashed' 'Crashed shortly after taking off'\n",
            " 'Pilot error' 'Crashed into a mountain while en route' 'Engine failure'\n",
            " 'Weather related' 'Shot down by Japanese military aircraft'\n",
            " 'Crashed while attempting to land' 'Crashed during takeoff'\n",
            " 'Stalled and crashed during a test flight' 'Crashed into a mountain'\n",
            " 'Crashed into the sea' 'Crashed into the sea' 'Went missing en route'\n",
            " 'Engine failure' 'Shot down by rebels' 'Crashed into the ocean'\n",
            " 'Engine failure' 'Crashed while en route'\n",
            " 'Crashed into an open field in a steep dive after attempting an emergency landing'\n",
            " 'Shot down by British aircraft' 'Cargo plane' 'Engine failure'\n",
            " 'Crashed while taking off' 'Crashed while landing'\n",
            " 'The mail plane crashed in a heavy snow storm' 'Crashed on approach'\n",
            " 'Crashed during takeoff' 'Struck a mountain'\n",
            " 'Crashed short of the runway' 'Flew into a mountain'\n",
            " 'Crashed and caught fire' 'Crashed during takeoff' 'Crashed in fog'\n",
            " 'Unable to gain altitude as the plane took off it crashed'\n",
            " 'Crashed while attempting to land'\n",
            " 'Collided with dirt bank after overrunning the runway while landing Misjudged distance speed and altitude Failed to initiate a go-around'\n",
            " 'Disappeared while en route' 'Engine failure' 'The cargo plane crashed'\n",
            " 'Crashed while attempting to land' 'Crashed during takeoff'\n",
            " 'Crashed while attempting to land' 'Struck a mountain'\n",
            " 'Crashed on approach' 'The cargo plane crashed' 'Pilot error'\n",
            " 'Crashed on approach' 'Crashed on approach' 'Crashed into the ocean'\n",
            " 'Crashed during a landing attempt' 'Engine failure'\n",
            " 'Crashed while attempting to land' 'Crashed on approach'\n",
            " 'Crashed during takeoff' 'Crashed shortly after taking off'\n",
            " 'Flew into thunderstorm activity and crashed into ocean for reasons unknown Continued VFR flight into adverse weather conditions'\n",
            " 'Pilot error' 'Crashed in poor weather'\n",
            " 'The helicopter crashed into the sea' 'Crashed while attempting to land'\n",
            " 'Crashed short of the runway' 'Flew into a mountain'\n",
            " 'Crashed in poor weather' 'Midair collision'\n",
            " 'Crashed into the sea in poor weather conditions'\n",
            " 'Crashed in poor weather' 'Crashed into the sea' 'Crashed on approach'\n",
            " 'Crashed into the sea' 'Crashed in poor weather' 'Cargo plane'\n",
            " 'Crashed shortly after takeoff' 'Engine failure'\n",
            " 'Crashed Continued VFR flight into adverse weather conditions'\n",
            " 'Pilot error'\n",
            " 'The cargo plane crashed short of the runway while attempting to land'\n",
            " 'Crashed while landing' 'The cargo plane crashed'\n",
            " 'Crashed into a mountain' 'Crashed short of the runway'\n",
            " 'Crashed while attempting to land' 'Crashed while attempting to land'\n",
            " 'Crashed on take off' 'Crashed during takeoff'\n",
            " 'Midair collision Pilot of Cessna failed to see and avoid other aircraft Two aboard the Piper killed'\n",
            " 'Reached an altitude of 200 feet stalled and crashed to the ground'\n",
            " 'The mail plane crashed in a heavy snow storm' 'Crashed while landing'\n",
            " 'Crashed after an explosion aboard the aircraft'\n",
            " 'Crashed into the sea in poor weather conditions'\n",
            " 'Crashed while attempting to land' 'Crashed shortly after takeoff'\n",
            " 'Crashed on approach' 'Crashed in poor weather'\n",
            " 'Crashed while attempting to land'\n",
            " 'Crashed into the sea in poor weather conditions'\n",
            " 'Crashed while attempting to land' 'Pilot error'\n",
            " 'Crashed while attempting to land in poor weather'\n",
            " 'Crashed while en route' 'Struck a mountain' 'Crashed on take off'\n",
            " 'Crashed on approach' 'Crashed on approach' 'Crashed in poor weather'\n",
            " 'The cargo plane crashed'\n",
            " 'Flew into thunderstorms and turbulence crashed while en route Continued VFR flight into adverse weather conditions Spatial disorientation'\n",
            " 'Crashed into the ocean' 'Crashed into a mountain'\n",
            " 'Crashed into a mountain in fog  Continued VFR flight into adverse weather conditions'\n",
            " 'Shot down by a surface-to-air missile' 'Crashed on approach'\n",
            " 'Crashed and burst into flames shortly after taking off from Dum Dum'\n",
            " 'Crashed shortly after taking off' 'Shot down by Afghan rebels'\n",
            " 'Crashed on approach' 'Crashed on approach'\n",
            " 'Crashed while attemping to land' 'The helicopter crashed into the sea'\n",
            " 'Crashed while landing' 'Crashed shortly after taking off'\n",
            " 'Shot down by Japanese military aircraft'\n",
            " 'Shot down by Japanese military aircraft' 'Pilot error' 'Engine failure'\n",
            " 'Crashed short of the runway' 'The helicopter crashed into the sea'\n",
            " 'Crashed into the ocean' 'Crashed while attempting to land'\n",
            " 'Shot down by enemy fire' 'Crashed shortly after taking off'\n",
            " 'Shot down by Afghan rebels'\n",
            " 'Crashed after executing a missed apporach Improper operation of powerplant and powerplant controls'\n",
            " 'Crashed in a storm'\n",
            " 'The aircraft was hijacked shortly after it left Logan International Airport in Boston The hijackers took control of the aircraft and deliberately crashed it into the north tower of the World Trade Center between the 94th and 99th floors at approximately 450 mph  After 102 minutes the building collapsed It was one of four planes that were hijacked the same day'\n",
            " 'Crashed into the sea'\n",
            " 'The pilot suffered spatial disorientation and crashed in rain and low ceiling while en route Continued VFR flight into adverse weather conditions'\n",
            " 'Shot down by British aircraft' 'Pilot error' 'Crashed during takeoff'\n",
            " \"The plane was over the English Channel when an engine failed The pilot tried to return to the airport but the plane ditched into the English Channel The plane was named 'City of Ottawa'\"\n",
            " 'The cargo plane crashed' 'Engine failure' 'Engine failure'\n",
            " 'Shot down by Japanese military aircraft'\n",
            " 'Crashed into a mountain while en route'\n",
            " 'Crashed after climbing to cruising altitude'\n",
            " 'Disappeared while en route' 'Crashed while attempting to land'\n",
            " 'Cargo plane' 'Pilot error' 'Crashed in poor weather'\n",
            " 'Crashed into a mountain' 'Crashed while landing'\n",
            " 'Crashed short of the runway' 'Crashed while landing'\n",
            " 'Crashed into mountains' 'Crashed while landing' 'Engine failure'\n",
            " 'The cargo plane was shot down by communist anti -aircraft fire'\n",
            " 'Crashed during takeoff' 'Crashed short of the runway'\n",
            " 'Crashed on approach' 'Crashed during takeoff' 'Flew into a mountain'\n",
            " 'Crashed on approach' 'Crashed while landing'\n",
            " 'Crashed into mountainous terrain' 'Engine failure'\n",
            " 'Crashed short of the runway' 'Flew into a mountain' 'Engine failure'\n",
            " 'Crashed into building while landing' 'Broke up in midair and crashed'\n",
            " 'Crashed during takeoff' 'Crashed into a mountain while en route'\n",
            " 'Crashed shortly after taking off' 'Crashed on approach Icing'\n",
            " 'Crashed on final approach after flying through areas of turbulence and thunderstorms'\n",
            " 'Engine failure' 'Crashed on approach' 'Crashed shortly after taking off'\n",
            " 'Crashed while en route' 'Disappeared while en route' 'Pilot error'\n",
            " 'Crashed into mountains' 'The helicopter crashed into the sea'\n",
            " 'Crashed on approach' 'Crashed into a mountain while en route'\n",
            " 'Crashed while taking off' 'Pilot error' 'Shot down by British aircraft'\n",
            " 'Crashed into the sea in poor weather conditions'\n",
            " 'Crashed into a hillside'\n",
            " 'Lost a wing in heavy turbulence at low altitude'\n",
            " 'Crashed into a village' 'Crashed shortly after taking off'\n",
            " 'Shot down by anti-aircraft fire during the Normandy invasion'\n",
            " 'Crashed on a test flight' 'The cargo plane crashed'\n",
            " 'Crashed on approach' 'The helicopter crashed into the sea'\n",
            " 'Shot down by enemy fire' 'Crashed while landing'\n",
            " 'The cargo plane crashed short of the runway while attempting to land'\n",
            " 'Struck a mountain' 'Crashed on approach'\n",
            " 'The helicopter crashed into the sea' 'Crashed while en route'\n",
            " 'Crashed into a river' 'Crashed into the sea in poor weather conditions'\n",
            " 'Crashed while taking off' 'Cargo plane' 'Disappeared while en route'\n",
            " 'The cargo plane was shot down by communist anti -aircraft fire'\n",
            " 'The cargo plane crashed short of the runway while attempting to land'\n",
            " 'Crashed while attempting to land' 'Crashed into a mountain'\n",
            " 'Crashed shortly after takeoff' 'Engine failure' 'Crashed on approach'\n",
            " 'Crashed shortly after takeoff' 'Crashed short of the runway'\n",
            " 'Crashed on take off' 'Crashed on approach' 'Crashed into mountains'\n",
            " 'Crashed after an uncontrolled descent Reasons unknown'\n",
            " 'The aircraft was unable to maintain flying speed after taking off Plane overloaded by 220 lbs'\n",
            " 'Crashed short of the runway' 'Went missing en route' 'Engine failure'\n",
            " 'Crashed short of the runway' 'Weather related'\n",
            " 'Disappeared while en route' 'Crashed during takeoff'\n",
            " 'The cargo plane crashed while attempting to land'\n",
            " 'The mail plane crashed in a heavy snow storm' 'Crashed into the sea'\n",
            " 'Crashed while landing' 'Crashed while en route' 'Crashed into the ocean'\n",
            " 'Crashed into the sea' 'Pilot error' 'Struck a mountain'\n",
            " 'Crashed during takeoff' 'Cargo plane'\n",
            " 'The helicopter crashed into the sea' 'Crashed on approach'\n",
            " 'Shot down by Afghan rebels' 'Crashed and caught fire'\n",
            " 'Disappeared while en route' 'The cargo plane crashed en route'\n",
            " 'Pilot error' 'Crashed on approach' 'Crashed during takeoff'\n",
            " 'Crashed while taking off' 'Crashed while landing'\n",
            " 'Midair collision between a Douglas DC-3 and Piper PA-18  Eighteen killed on the DC-3 one on the Piper'\n",
            " 'Crashed after a wing failed due to overstressing'\n",
            " 'The cargo plane crashed' 'Crashed short of the runway'\n",
            " 'Crashed during takeoff' 'Crashed on approach'\n",
            " 'The helicopter crashed into the sea'\n",
            " 'Crashed into the sea in poor weather conditions'\n",
            " 'Crashed into high ground while descending' 'Crashed while landing'\n",
            " 'Engine failure' 'Cargo plane'\n",
            " 'Crashed into a hill in heavy fog while on approach'\n",
            " 'Crashed in poor weather' 'Engine failure' 'Pilot error'\n",
            " 'Disappeared while en route' 'Flew into a mountain' 'Engine failure'\n",
            " 'Shot down by enemy fire' 'Crashed while en route in mountainous terrain'\n",
            " 'Disappeared while en route'\n",
            " 'Stalled entered a spin and crashed An inadvertent spin at an altitude too low for recovery'\n",
            " 'Crashed during takeoff' 'Crashed in fog' 'Engine failure'\n",
            " 'Crashed into the ocean' 'Crashed into a mountain'\n",
            " 'Crashed in poor weather' 'Crashed while en route' 'Engine failure'\n",
            " 'Struck a mountain' 'Crashed into a mountainside in a snowstorm'\n",
            " 'Crashed in poor weather'\n",
            " 'Crashed in a storm Separation of propeller followed by disintegration of the aircraft Overspeeding of No3 propeller caused by irregular operation of the propeller governor detachment of that propeller and impact with that of No4 engine followed by disintegration of the aircraft'\n",
            " 'Shot down by enemy fire' 'Crashed on approach' 'Crashed during takeoff'\n",
            " 'Crashed in poor weather' 'Struck a mountain' 'Crashed in poor weather'\n",
            " 'The mail plane crashed in a heavy snow storm'\n",
            " 'Crashed after being struck by lightning' 'Crashed while landing'\n",
            " 'Crashed into a mountainside in a snowstorm'\n",
            " 'The cargo plane crashed short of the runway while attempting to land'\n",
            " \"The aircraft crashed short of runway during a visual approach in deteriorating weather conditions Failure of the flight crew to properly monitor the aircraft's height during the approach into deteriorating weather conditions resulting in an excessive sink rate Excessive sink rate is thought to have caused four 727 accidents in succession  Lake Michigan 8/16/65 Cincinnati 11/8/65 Salt Lake City 11/11/65 and Tokyo Bay 2/4/66 Only the Salt Lake and Cincinnati crashes were officially attributed to it After 727 training manuals were modified and pilots were reoriented to the flying characteristics of the aircraft the problem was corrected\"\n",
            " 'The cargo plane crashed short of the runway while attempting to land'\n",
            " 'Crashed into the sea' 'Crashed into the sea'\n",
            " 'Crashed into a mountainside in a snowstorm' 'The cargo plane crashed'\n",
            " 'Crashed on approach' 'Crashed while en route'\n",
            " 'Crashed shortly after takeoff' 'Crashed while en route'\n",
            " 'Crashed while en route' 'Crashed on approach' 'Engine failure'\n",
            " 'Cargo plane' 'Crashed into a mountain' 'Disappeared while en route'\n",
            " 'Crashed while landing' 'Crashed while en route'\n",
            " 'The cargo plane crashed' 'Crashed short of the runway'\n",
            " 'Crashed on approach'\n",
            " 'The cargo plane crashed short of the runway while attempting to land'\n",
            " 'Engine failure' 'Crashed into a mountain' 'Crashed into power lines'\n",
            " 'Disappeared while en route' 'Engine failure' 'Crashed while taking off'\n",
            " 'Crashed into mountains' 'Crashed into a mountain' 'Crashed on approach'\n",
            " 'Shot down by Japanese military aircraft' 'Crashed while en route'\n",
            " 'Crashed while en route' 'Shot down by rebel forces'\n",
            " 'Flew into a mountain' 'Crashed on approach' 'Crashed on approach'\n",
            " 'Crashed while en route' 'Flew into a mountain'\n",
            " 'Crashed shortly after taking off' 'Crashed while taking off'\n",
            " 'Crashed while taking off' 'Hit high ground' 'Crashed while taking off'\n",
            " 'Crashed shortly after takeoff' 'Crashed shortly after takeoff'\n",
            " 'Struck power lines while landing' 'Crashed during takeoff'\n",
            " 'Crashed shortly after takeoff' 'The cargo plane crashed'\n",
            " 'Crashed shortly after taking off' 'Crashed on approach'\n",
            " 'Crashed into Chingshan mountain range 10 miles south of Tsinan in fog'\n",
            " 'Engine failure' 'Crashed into the sea'\n",
            " 'Crashed into high ground on approach after executing a premature descent'\n",
            " 'Crashed during takeoff' 'Crashed shortly after takeoff'\n",
            " 'Shot down by allied fighters' 'Crashed while landing'\n",
            " 'Crashed during takeoff' 'Crashed on approach' 'Crashed on approach'\n",
            " 'Pilot error' 'Crashed while landing' 'Crashed while taking off'\n",
            " 'Crashed after being struck by lightning'\n",
            " 'Crashed into a mountain while en route'\n",
            " 'Crashed while attempting to land' 'Crashed into a mountain'\n",
            " 'Crashed on approach' 'Crashed after being struck by lightning'\n",
            " 'Went missing en route'\n",
            " 'The aircraft crashed while attempting to make an emergency landing'\n",
            " 'Cargo plane' 'Engine failure'\n",
            " 'The mail plane crashed in a heavy snow storm'\n",
            " 'Crashed while attempting to land in poor weather' 'Pilot error'\n",
            " 'Crashed shortly after takeoff' 'Crashed shortly after taking off'\n",
            " 'Crashed while attempting to land' 'Pilot error' 'Engine failure'\n",
            " 'Struck a mountain' 'Crashed into a mountain' 'Crashed while taking off'\n",
            " 'The cargo plane crashed en route' 'Crashed while en route'\n",
            " 'Crashed during a landing attempt' 'Crashed on approach' 'Engine failure'\n",
            " 'Crashed shortly after taking off'\n",
            " 'The cargo plane crashed short of the runway while attempting to land'\n",
            " 'Crashed while en route' 'Pilot error' 'Crashed while attemping to land'\n",
            " 'Crashed while en route' 'Engine failure' 'Crashed while taking off'\n",
            " 'While flying at FL 290 the aircraft was destroyed by a detonation of a bomb within the cabin'\n",
            " 'Shot down by Afghan rebels' 'Crashed into a mountain'\n",
            " 'Crashed into a mountain' 'Crashed on approach'\n",
            " 'Crashed during a landing attempt' 'Struck a mountain'\n",
            " 'The helicopter crashed into the sea'\n",
            " 'Shot down by Japanese military aircraft' 'Crashed in poor weather'\n",
            " 'Cargo plane' 'Crashed into the sea in poor weather conditions'\n",
            " 'The cargo plane crashed while attempting to land'\n",
            " 'Shot down by a surface-to-air missile'\n",
            " 'Shot down by Japanese military aircraft' 'Crashed Engine fire'\n",
            " 'Crashed on approach' 'Crashed during takeoff' 'Engine failure'\n",
            " 'Crashed while en route' 'Crashed while attempting to land'\n",
            " 'Crashed into a mountain while en route'\n",
            " 'The cargo plane crashed short of the runway while attempting to land'\n",
            " 'Crashed while attempting to land' 'Crashed while landing'\n",
            " 'The helicopter crashed into the sea' 'Crashed on approach'\n",
            " 'Crashed while en route' 'The cargo plane crashed'\n",
            " 'Crashed short of the runway' 'Crashed on approach'\n",
            " 'Crashed while taking off' 'The helicopter crashed into the sea'\n",
            " 'The aircraft hit Concepcion volcano while en route The aircraft made a left turn towards the volcano banked sharply in descent enered a rapid climb and then crashed Unexplained loss of control'\n",
            " 'Collided with trees on final approach in rain fog and low ceiling Continued VFR flight into adverse weather conditions'\n",
            " 'Engine failure' 'Crashed shortly after taking off'\n",
            " 'The mail plane crashed in a heavy snow storm' 'Crashed while taking off'\n",
            " 'Crashed while landing' 'Shot down by rebels'\n",
            " 'Crashed into a mountainside in a snowstorm'\n",
            " 'Crashed shortly after takeoff']\n"
          ]
        }
      ]
    },
    {
      "cell_type": "code",
      "source": [
        "# print(y_pred.shape[0])"
      ],
      "metadata": {
        "id": "-BUh-9-Rx0rH"
      },
      "execution_count": null,
      "outputs": []
    },
    {
      "cell_type": "code",
      "source": [
        "from sklearn.metrics import accuracy_score, precision_score, recall_score, f1_score\n",
        "\n",
        "accuracy = accuracy_score(y_test, y_pred)\n",
        "precision = precision_score(y_test, y_pred, average='weighted')\n",
        "recall = recall_score(y_test, y_pred, average='weighted')\n",
        "f1 = f1_score(y_test, y_pred, average='weighted')\n",
        "\n",
        "print(\"Accuracy:\", accuracy)\n",
        "print(\"Precision:\", precision)\n",
        "print(\"Recall:\", recall)\n",
        "print(\"F1-score:\", f1)\n"
      ],
      "metadata": {
        "id": "-KyhLfioDGnz",
        "colab": {
          "base_uri": "https://localhost:8080/"
        },
        "outputId": "a2319f0c-bc61-4735-a746-28611b19abfc"
      },
      "execution_count": 16,
      "outputs": [
        {
          "output_type": "stream",
          "name": "stderr",
          "text": [
            "/usr/local/lib/python3.10/dist-packages/sklearn/metrics/_classification.py:1344: UndefinedMetricWarning: Precision is ill-defined and being set to 0.0 in labels with no predicted samples. Use `zero_division` parameter to control this behavior.\n",
            "  _warn_prf(average, modifier, msg_start, len(result))\n",
            "/usr/local/lib/python3.10/dist-packages/sklearn/metrics/_classification.py:1344: UndefinedMetricWarning: Recall is ill-defined and being set to 0.0 in labels with no true samples. Use `zero_division` parameter to control this behavior.\n",
            "  _warn_prf(average, modifier, msg_start, len(result))\n"
          ]
        },
        {
          "output_type": "stream",
          "name": "stdout",
          "text": [
            "Accuracy: 0.035860655737704916\n",
            "Precision: 0.009612761466841015\n",
            "Recall: 0.035860655737704916\n",
            "F1-score: 0.01232700096797655\n"
          ]
        }
      ]
    },
    {
      "cell_type": "code",
      "source": [
        "import pandas as pd\n",
        "\n",
        "# Membuat dataframe dari X_test\n",
        "df_X_test = pd.DataFrame(X_test.toarray(), columns=feature_names)\n",
        "\n",
        "# Membuat dataframe dari y_pred\n",
        "df_y_pred = pd.DataFrame({'Prediksi': y_pred})\n",
        "\n",
        "# Menggabungkan dataframe X_test dan y_pred\n",
        "df_hasil_prediksi = pd.concat([df_X_test, df_y_pred], axis=1)\n",
        "\n",
        "# Menampilkan dataframe hasil prediksi\n",
        "print(df_y_pred)"
      ],
      "metadata": {
        "id": "VwK4UJUH2m-a",
        "colab": {
          "base_uri": "https://localhost:8080/"
        },
        "outputId": "8dd09e90-fb26-4674-f77c-3a0ec3a3b77b"
      },
      "execution_count": 22,
      "outputs": [
        {
          "output_type": "stream",
          "name": "stdout",
          "text": [
            "                                       Prediksi\n",
            "0                        Crashed while en route\n",
            "1              Crashed while attempting to land\n",
            "2                          Flew into a mountain\n",
            "3                   Crashed short of the runway\n",
            "4                   Crashed short of the runway\n",
            "..                                          ...\n",
            "971                    Crashed while taking off\n",
            "972                       Crashed while landing\n",
            "973                         Shot down by rebels\n",
            "974  Crashed into a mountainside in a snowstorm\n",
            "975               Crashed shortly after takeoff\n",
            "\n",
            "[976 rows x 1 columns]\n"
          ]
        }
      ]
    },
    {
      "cell_type": "code",
      "source": [
        "import random\n",
        "import pandas as pd\n",
        "\n",
        "# Bobot dan kelas\n",
        "kelas = {\n",
        "    \"Kecelakaan Helikopter akibat Serangan Pemberontak\": {'helicopter': 0.013, 'rebels': 0.008, 'crashed': 0.006, 'shot': 0.006, 'rotor': 0.006},\n",
        "    \"Kecelakaan Pesawat segera setelah Lelepas Landas\": {'crashed': 0.009, 'plane': 0.009, 'aircraft': 0.007, 'taking': 0.007, 'shortly': 0.007},\n",
        "    \"Kecelakaan Pesawat saat Lepas Landas di Daerah Berbukit atau Akibat Cuaca\": {'crashed': 0.016, 'takeoff': 0.011, 'mountain': 0.009, 'poor': 0.007, 'weather': 0.006},\n",
        "    \"Kecelakaan Pesawat saat Pendekatan Landasan atau Mendarat\": {'approach': 0.015, 'plane': 0.015, 'crashed': 0.013, 'cargo': 0.012, 'runway': 0.011},\n",
        "    \"Kecelakaan Pesawat di Rute Penerbangan\": {'route': 0.018, 'en': 0.018, 'crashed': 0.014, 'plane': 0.010, 'cargo': 0.006},\n",
        "    \"Kecelakaan Pesawat saat Penerbangan\": {'crashed': 0.012, 'plane': 0.011, 'aircraft': 0.008, 'flight': 0.006, 'taking': 0.005},\n",
        "    \"Kecelakaan Pesawat saat Mendarat atau Lepas Landas\": {'plane': 0.009, 'crashed': 0.009, 'landing': 0.009, 'pilot': 0.008, 'aircraft': 0.008},\n",
        "    \"Kecelakaan Pesawat saat dalam Penerbangan (Masalah Internal)\": {'crashed': 0.009, 'flight': 0.009, 'pilot': 0.008, 'plane': 0.008, 'aircraft': 0.008},\n",
        "    \"Kecelakaan Pesawat akibat Mengambil atau Mendarat di Daerah Pegunungan\": {'crashed': 0.010, 'mountain': 0.009, 'taking': 0.009, 'aircraft': 0.008, 'plane': 0.008}\n",
        "}\n",
        "\n",
        "# Mengakses kolom 'kalimat' dari DataFrame\n",
        "kalimat_array = y_pred\n",
        "\n",
        "# Inisialisasi list untuk menyimpan hasil prediksi\n",
        "prediksi_kelas = []\n",
        "\n",
        "for i in kalimat_array:\n",
        "    # Inisialisasi nilai tertinggi dan kelas tujuan\n",
        "    nilai_tertinggi = -1\n",
        "    kelas_tujuan = None\n",
        "\n",
        "    # Melakukan perhitungan nilai untuk setiap kelas\n",
        "    for kelas_id, bobot_kata in kelas.items():\n",
        "        nilai = 0\n",
        "        for kata, bobot in bobot_kata.items():\n",
        "            jumlah_kata = i.count(kata)\n",
        "            nilai += bobot * jumlah_kata\n",
        "\n",
        "        # Memperbarui nilai tertinggi dan kelas tujuan jika ditemukan nilai yang lebih tinggi\n",
        "        if nilai > nilai_tertinggi:\n",
        "            nilai_tertinggi = nilai\n",
        "            kelas_tujuan = kelas_id\n",
        "        elif nilai == nilai_tertinggi:\n",
        "            # Jika terdapat nilai yang sama, pilih secara acak\n",
        "            if random.random() < 0.5:\n",
        "                kelas_tujuan = kelas_id\n",
        "\n",
        "    # Menambahkan kelas tujuan ke dalam list hasil prediksi\n",
        "    prediksi_kelas.append(kelas_tujuan)\n",
        "\n",
        "    # Menampilkan hasil prediksi untuk setiap kalimat\n",
        "    # print(\"Kalimat:\", i)\n",
        "    # print(\"Prediksi Kelas:\", kelas_tujuan)\n",
        "    # print(\"----------\")\n",
        "\n",
        "# Membuat kolom baru 'prediksi_kelas' dalam DataFrame dan mengisinya dengan hasil prediksi\n",
        "df_prediksi = prediksi_kelas\n",
        "\n",
        "\n"
      ],
      "metadata": {
        "id": "1uVcJCSTZhG_"
      },
      "execution_count": 70,
      "outputs": []
    },
    {
      "cell_type": "code",
      "source": [
        "# Dataframe pertama\n",
        "# df1 = pd.DataFrame({'Kalimat': y_pred})\n",
        "\n",
        "# DataFrame kedua\n",
        "# df2 = pd.DataFrame({'Kelas': df_prediksi})\n",
        "\n",
        "# print(df2)\n",
        "\n",
        "# # Menggabungkan kedua dataframe\n",
        "# df_gabungan = pd.concat([df1, df2], axis=1)\n",
        "\n",
        "# # Menampilkan dataframe gabungan\n",
        "# print(df_gabungan)"
      ],
      "metadata": {
        "id": "10SYoWGdbnqm"
      },
      "execution_count": 71,
      "outputs": []
    },
    {
      "cell_type": "code",
      "source": [
        "import pandas as pd\n",
        "\n",
        "# Contoh dataframe pertama\n",
        "df1 = pd.DataFrame({'Kalimat' : y_pred})\n",
        "\n",
        "# Contoh dataframe kedua\n",
        "df2 = pd.DataFrame({'Prediksinya': df_prediksi})\n",
        "\n",
        "# Membuat Series dari list\n",
        "series_kalimat = pd.Series(y_pred)\n",
        "series_prediksi = pd.Series(df_prediksi)\n",
        "\n",
        "# Menggabungkan kedua Series menjadi DataFrame\n",
        "df_gabungan = pd.concat([series_kalimat, series_prediksi], axis=1)\n",
        "# Menggabungkan kedua dataframe\n",
        "df_gabungan = pd.concat([series_kalimat, series_prediksi], axis=1)\n",
        "\n",
        "# Menampilkan dataframe gabungan\n",
        "print(df_gabungan)\n"
      ],
      "metadata": {
        "colab": {
          "base_uri": "https://localhost:8080/"
        },
        "id": "ltSmWzN2ptka",
        "outputId": "3d1c4d7f-efc6-4a38-b623-b40cda632dbd"
      },
      "execution_count": 74,
      "outputs": [
        {
          "output_type": "stream",
          "name": "stdout",
          "text": [
            "                                              0  \\\n",
            "0                        Crashed while en route   \n",
            "1              Crashed while attempting to land   \n",
            "2                          Flew into a mountain   \n",
            "3                   Crashed short of the runway   \n",
            "4                   Crashed short of the runway   \n",
            "..                                          ...   \n",
            "971                    Crashed while taking off   \n",
            "972                       Crashed while landing   \n",
            "973                         Shot down by rebels   \n",
            "974  Crashed into a mountainside in a snowstorm   \n",
            "975               Crashed shortly after takeoff   \n",
            "\n",
            "                                                     1  \n",
            "0               Kecelakaan Pesawat di Rute Penerbangan  \n",
            "1    Kecelakaan Pesawat akibat Mengambil atau Menda...  \n",
            "2    Kecelakaan Pesawat saat Lepas Landas di Daerah...  \n",
            "3    Kecelakaan Pesawat saat Pendekatan Landasan at...  \n",
            "4    Kecelakaan Pesawat saat Pendekatan Landasan at...  \n",
            "..                                                 ...  \n",
            "971  Kecelakaan Pesawat akibat Mengambil atau Menda...  \n",
            "972  Kecelakaan Pesawat saat Mendarat atau Lepas La...  \n",
            "973  Kecelakaan Helikopter akibat Serangan Pemberontak  \n",
            "974  Kecelakaan Pesawat akibat Mengambil atau Menda...  \n",
            "975  Kecelakaan Pesawat saat Lepas Landas di Daerah...  \n",
            "\n",
            "[976 rows x 2 columns]\n"
          ]
        }
      ]
    },
    {
      "cell_type": "code",
      "source": [
        "import matplotlib.pyplot as plt\n",
        "\n",
        "# Hasil kelas tujuan\n",
        "kelas_tujuan = df_prediksi\n",
        "\n",
        "# Menghitung jumlah kemunculan setiap kelas tujuan\n",
        "kelas_count = {}\n",
        "for kelas in kelas_tujuan:\n",
        "    if kelas in kelas_count:\n",
        "        kelas_count[kelas] += 1\n",
        "    else:\n",
        "        kelas_count[kelas] = 1\n",
        "\n",
        "# Menyiapkan label dan data untuk pie chart\n",
        "labels = []\n",
        "sizes = []\n",
        "for kelas, count in kelas_count.items():\n",
        "    labels.append(f'Kelas {kelas}')\n",
        "    sizes.append(count)\n",
        "\n",
        "# Menentukan warna untuk setiap bagian pie chart\n",
        "colors = ['yellow', 'orange', 'red', 'purple', 'blue', 'green', 'pink', 'gray', 'cyan']\n",
        "\n",
        "# Membuat pie chart\n",
        "plt.pie(sizes, labels=labels, colors=colors, autopct='%1.1f%%', startangle=90)\n",
        "\n",
        "# Menampilkan legend dan judul\n",
        "plt.title('Pie Chart Faktor Penyebab Kecelakaan Pesawat')\n",
        "\n",
        "# Menampilkan pie chart\n",
        "plt.axis('equal')\n",
        "plt.show()\n"
      ],
      "metadata": {
        "colab": {
          "base_uri": "https://localhost:8080/",
          "height": 379
        },
        "id": "6eEO4mbFq92r",
        "outputId": "0f0b9be2-5e03-478e-fe41-794982e1b153"
      },
      "execution_count": 80,
      "outputs": [
        {
          "output_type": "display_data",
          "data": {
            "text/plain": [
              "<Figure size 640x480 with 1 Axes>"
            ],
            "image/png": "[encoded data removed]"
          },
          "metadata": {}
        }
      ]
    },
    {
      "cell_type": "code",
      "source": [],
      "metadata": {
        "id": "dFXz4RujtX7s"
      },
      "execution_count": null,
      "outputs": []
    }
  ],
  "metadata": {
    "colab": {
      "provenance": []
    },
    "kernelspec": {
      "display_name": "Python 3",
      "name": "python3"
    },
    "language_info": {
      "name": "python"
    }
  },
  "nbformat": 4,
  "nbformat_minor": 0
}